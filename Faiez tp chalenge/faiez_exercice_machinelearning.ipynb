{
  "nbformat": 4,
  "nbformat_minor": 0,
  "metadata": {
    "colab": {
      "provenance": []
    },
    "kernelspec": {
      "name": "python3",
      "display_name": "Python 3"
    },
    "language_info": {
      "name": "python"
    }
  },
  "cells": [
    {
      "cell_type": "markdown",
      "source": [
        "#1-Commencez par télécharger le fichier Excel contenant les données automobiles et afficher data\n",
        "\n"
      ],
      "metadata": {
        "id": "H8EbXAP-Sr1_"
      }
    },
    {
      "cell_type": "code",
      "execution_count": 420,
      "metadata": {
        "colab": {
          "base_uri": "https://localhost:8080/",
          "height": 423
        },
        "id": "jP3hDpxDOVRn",
        "outputId": "75321679-3bc6-4684-fd37-eed9c973852d"
      },
      "outputs": [
        {
          "output_type": "execute_result",
          "data": {
            "text/plain": [
              "     acceleration  engine.displacement Color  horesepower  weight cylinders\n",
              "0            16.0                302.0   Red          140    4638     Eight\n",
              "1            16.0                 79.0   Red           67    2000      Four\n",
              "2            16.6                 98.0   Red           68    2135      Four\n",
              "3            16.9                116.0   Red           81    2220      Four\n",
              "4            15.0                120.0   Red           97    2489      Four\n",
              "..            ...                  ...   ...          ...     ...       ...\n",
              "225          16.0                135.0   Red           84    2525      Four\n",
              "226          16.5                122.0   Red           80    2451      Four\n",
              "227          16.4                 86.0   Red           64    1875      Four\n",
              "228          13.5                 70.0   Red           97    2330     Three\n",
              "229          15.3                 89.0   Red           62    1845      Four\n",
              "\n",
              "[230 rows x 6 columns]"
            ],
            "text/html": [
              "\n",
              "  <div id=\"df-9cd620e9-7882-4e7c-a495-41b8fda01327\">\n",
              "    <div class=\"colab-df-container\">\n",
              "      <div>\n",
              "<style scoped>\n",
              "    .dataframe tbody tr th:only-of-type {\n",
              "        vertical-align: middle;\n",
              "    }\n",
              "\n",
              "    .dataframe tbody tr th {\n",
              "        vertical-align: top;\n",
              "    }\n",
              "\n",
              "    .dataframe thead th {\n",
              "        text-align: right;\n",
              "    }\n",
              "</style>\n",
              "<table border=\"1\" class=\"dataframe\">\n",
              "  <thead>\n",
              "    <tr style=\"text-align: right;\">\n",
              "      <th></th>\n",
              "      <th>acceleration</th>\n",
              "      <th>engine.displacement</th>\n",
              "      <th>Color</th>\n",
              "      <th>horesepower</th>\n",
              "      <th>weight</th>\n",
              "      <th>cylinders</th>\n",
              "    </tr>\n",
              "  </thead>\n",
              "  <tbody>\n",
              "    <tr>\n",
              "      <th>0</th>\n",
              "      <td>16.0</td>\n",
              "      <td>302.0</td>\n",
              "      <td>Red</td>\n",
              "      <td>140</td>\n",
              "      <td>4638</td>\n",
              "      <td>Eight</td>\n",
              "    </tr>\n",
              "    <tr>\n",
              "      <th>1</th>\n",
              "      <td>16.0</td>\n",
              "      <td>79.0</td>\n",
              "      <td>Red</td>\n",
              "      <td>67</td>\n",
              "      <td>2000</td>\n",
              "      <td>Four</td>\n",
              "    </tr>\n",
              "    <tr>\n",
              "      <th>2</th>\n",
              "      <td>16.6</td>\n",
              "      <td>98.0</td>\n",
              "      <td>Red</td>\n",
              "      <td>68</td>\n",
              "      <td>2135</td>\n",
              "      <td>Four</td>\n",
              "    </tr>\n",
              "    <tr>\n",
              "      <th>3</th>\n",
              "      <td>16.9</td>\n",
              "      <td>116.0</td>\n",
              "      <td>Red</td>\n",
              "      <td>81</td>\n",
              "      <td>2220</td>\n",
              "      <td>Four</td>\n",
              "    </tr>\n",
              "    <tr>\n",
              "      <th>4</th>\n",
              "      <td>15.0</td>\n",
              "      <td>120.0</td>\n",
              "      <td>Red</td>\n",
              "      <td>97</td>\n",
              "      <td>2489</td>\n",
              "      <td>Four</td>\n",
              "    </tr>\n",
              "    <tr>\n",
              "      <th>...</th>\n",
              "      <td>...</td>\n",
              "      <td>...</td>\n",
              "      <td>...</td>\n",
              "      <td>...</td>\n",
              "      <td>...</td>\n",
              "      <td>...</td>\n",
              "    </tr>\n",
              "    <tr>\n",
              "      <th>225</th>\n",
              "      <td>16.0</td>\n",
              "      <td>135.0</td>\n",
              "      <td>Red</td>\n",
              "      <td>84</td>\n",
              "      <td>2525</td>\n",
              "      <td>Four</td>\n",
              "    </tr>\n",
              "    <tr>\n",
              "      <th>226</th>\n",
              "      <td>16.5</td>\n",
              "      <td>122.0</td>\n",
              "      <td>Red</td>\n",
              "      <td>80</td>\n",
              "      <td>2451</td>\n",
              "      <td>Four</td>\n",
              "    </tr>\n",
              "    <tr>\n",
              "      <th>227</th>\n",
              "      <td>16.4</td>\n",
              "      <td>86.0</td>\n",
              "      <td>Red</td>\n",
              "      <td>64</td>\n",
              "      <td>1875</td>\n",
              "      <td>Four</td>\n",
              "    </tr>\n",
              "    <tr>\n",
              "      <th>228</th>\n",
              "      <td>13.5</td>\n",
              "      <td>70.0</td>\n",
              "      <td>Red</td>\n",
              "      <td>97</td>\n",
              "      <td>2330</td>\n",
              "      <td>Three</td>\n",
              "    </tr>\n",
              "    <tr>\n",
              "      <th>229</th>\n",
              "      <td>15.3</td>\n",
              "      <td>89.0</td>\n",
              "      <td>Red</td>\n",
              "      <td>62</td>\n",
              "      <td>1845</td>\n",
              "      <td>Four</td>\n",
              "    </tr>\n",
              "  </tbody>\n",
              "</table>\n",
              "<p>230 rows × 6 columns</p>\n",
              "</div>\n",
              "      <button class=\"colab-df-convert\" onclick=\"convertToInteractive('df-9cd620e9-7882-4e7c-a495-41b8fda01327')\"\n",
              "              title=\"Convert this dataframe to an interactive table.\"\n",
              "              style=\"display:none;\">\n",
              "        \n",
              "  <svg xmlns=\"http://www.w3.org/2000/svg\" height=\"24px\"viewBox=\"0 0 24 24\"\n",
              "       width=\"24px\">\n",
              "    <path d=\"M0 0h24v24H0V0z\" fill=\"none\"/>\n",
              "    <path d=\"M18.56 5.44l.94 2.06.94-2.06 2.06-.94-2.06-.94-.94-2.06-.94 2.06-2.06.94zm-11 1L8.5 8.5l.94-2.06 2.06-.94-2.06-.94L8.5 2.5l-.94 2.06-2.06.94zm10 10l.94 2.06.94-2.06 2.06-.94-2.06-.94-.94-2.06-.94 2.06-2.06.94z\"/><path d=\"M17.41 7.96l-1.37-1.37c-.4-.4-.92-.59-1.43-.59-.52 0-1.04.2-1.43.59L10.3 9.45l-7.72 7.72c-.78.78-.78 2.05 0 2.83L4 21.41c.39.39.9.59 1.41.59.51 0 1.02-.2 1.41-.59l7.78-7.78 2.81-2.81c.8-.78.8-2.07 0-2.86zM5.41 20L4 18.59l7.72-7.72 1.47 1.35L5.41 20z\"/>\n",
              "  </svg>\n",
              "      </button>\n",
              "      \n",
              "  <style>\n",
              "    .colab-df-container {\n",
              "      display:flex;\n",
              "      flex-wrap:wrap;\n",
              "      gap: 12px;\n",
              "    }\n",
              "\n",
              "    .colab-df-convert {\n",
              "      background-color: #E8F0FE;\n",
              "      border: none;\n",
              "      border-radius: 50%;\n",
              "      cursor: pointer;\n",
              "      display: none;\n",
              "      fill: #1967D2;\n",
              "      height: 32px;\n",
              "      padding: 0 0 0 0;\n",
              "      width: 32px;\n",
              "    }\n",
              "\n",
              "    .colab-df-convert:hover {\n",
              "      background-color: #E2EBFA;\n",
              "      box-shadow: 0px 1px 2px rgba(60, 64, 67, 0.3), 0px 1px 3px 1px rgba(60, 64, 67, 0.15);\n",
              "      fill: #174EA6;\n",
              "    }\n",
              "\n",
              "    [theme=dark] .colab-df-convert {\n",
              "      background-color: #3B4455;\n",
              "      fill: #D2E3FC;\n",
              "    }\n",
              "\n",
              "    [theme=dark] .colab-df-convert:hover {\n",
              "      background-color: #434B5C;\n",
              "      box-shadow: 0px 1px 3px 1px rgba(0, 0, 0, 0.15);\n",
              "      filter: drop-shadow(0px 1px 2px rgba(0, 0, 0, 0.3));\n",
              "      fill: #FFFFFF;\n",
              "    }\n",
              "  </style>\n",
              "\n",
              "      <script>\n",
              "        const buttonEl =\n",
              "          document.querySelector('#df-9cd620e9-7882-4e7c-a495-41b8fda01327 button.colab-df-convert');\n",
              "        buttonEl.style.display =\n",
              "          google.colab.kernel.accessAllowed ? 'block' : 'none';\n",
              "\n",
              "        async function convertToInteractive(key) {\n",
              "          const element = document.querySelector('#df-9cd620e9-7882-4e7c-a495-41b8fda01327');\n",
              "          const dataTable =\n",
              "            await google.colab.kernel.invokeFunction('convertToInteractive',\n",
              "                                                     [key], {});\n",
              "          if (!dataTable) return;\n",
              "\n",
              "          const docLinkHtml = 'Like what you see? Visit the ' +\n",
              "            '<a target=\"_blank\" href=https://colab.research.google.com/notebooks/data_table.ipynb>data table notebook</a>'\n",
              "            + ' to learn more about interactive tables.';\n",
              "          element.innerHTML = '';\n",
              "          dataTable['output_type'] = 'display_data';\n",
              "          await google.colab.output.renderOutput(dataTable, element);\n",
              "          const docLink = document.createElement('div');\n",
              "          docLink.innerHTML = docLinkHtml;\n",
              "          element.appendChild(docLink);\n",
              "        }\n",
              "      </script>\n",
              "    </div>\n",
              "  </div>\n",
              "  "
            ]
          },
          "metadata": {},
          "execution_count": 420
        }
      ],
      "source": [
        "import pandas as pd\n",
        "import numpy as np\n",
        "data=pd.read_excel('/données automobiles.xlsx')\n",
        "data"
      ]
    },
    {
      "cell_type": "markdown",
      "source": [
        "#2-Supprimez la colonne \"color\" du DataFrame"
      ],
      "metadata": {
        "id": "ozvyPyP_VCdi"
      }
    },
    {
      "cell_type": "code",
      "source": [
        "data = data.drop(columns='Color')\n",
        "\n"
      ],
      "metadata": {
        "id": "VdJngR8APFTz"
      },
      "execution_count": 421,
      "outputs": []
    },
    {
      "cell_type": "code",
      "source": [
        "data\n"
      ],
      "metadata": {
        "colab": {
          "base_uri": "https://localhost:8080/",
          "height": 423
        },
        "id": "ZMDSWXEPezyn",
        "outputId": "486d50b8-f429-4212-fa71-9237bb2eb1ee"
      },
      "execution_count": 422,
      "outputs": [
        {
          "output_type": "execute_result",
          "data": {
            "text/plain": [
              "     acceleration  engine.displacement  horesepower  weight cylinders\n",
              "0            16.0                302.0          140    4638     Eight\n",
              "1            16.0                 79.0           67    2000      Four\n",
              "2            16.6                 98.0           68    2135      Four\n",
              "3            16.9                116.0           81    2220      Four\n",
              "4            15.0                120.0           97    2489      Four\n",
              "..            ...                  ...          ...     ...       ...\n",
              "225          16.0                135.0           84    2525      Four\n",
              "226          16.5                122.0           80    2451      Four\n",
              "227          16.4                 86.0           64    1875      Four\n",
              "228          13.5                 70.0           97    2330     Three\n",
              "229          15.3                 89.0           62    1845      Four\n",
              "\n",
              "[230 rows x 5 columns]"
            ],
            "text/html": [
              "\n",
              "  <div id=\"df-7adc82a7-59a0-43ae-b07f-95debb5d7036\">\n",
              "    <div class=\"colab-df-container\">\n",
              "      <div>\n",
              "<style scoped>\n",
              "    .dataframe tbody tr th:only-of-type {\n",
              "        vertical-align: middle;\n",
              "    }\n",
              "\n",
              "    .dataframe tbody tr th {\n",
              "        vertical-align: top;\n",
              "    }\n",
              "\n",
              "    .dataframe thead th {\n",
              "        text-align: right;\n",
              "    }\n",
              "</style>\n",
              "<table border=\"1\" class=\"dataframe\">\n",
              "  <thead>\n",
              "    <tr style=\"text-align: right;\">\n",
              "      <th></th>\n",
              "      <th>acceleration</th>\n",
              "      <th>engine.displacement</th>\n",
              "      <th>horesepower</th>\n",
              "      <th>weight</th>\n",
              "      <th>cylinders</th>\n",
              "    </tr>\n",
              "  </thead>\n",
              "  <tbody>\n",
              "    <tr>\n",
              "      <th>0</th>\n",
              "      <td>16.0</td>\n",
              "      <td>302.0</td>\n",
              "      <td>140</td>\n",
              "      <td>4638</td>\n",
              "      <td>Eight</td>\n",
              "    </tr>\n",
              "    <tr>\n",
              "      <th>1</th>\n",
              "      <td>16.0</td>\n",
              "      <td>79.0</td>\n",
              "      <td>67</td>\n",
              "      <td>2000</td>\n",
              "      <td>Four</td>\n",
              "    </tr>\n",
              "    <tr>\n",
              "      <th>2</th>\n",
              "      <td>16.6</td>\n",
              "      <td>98.0</td>\n",
              "      <td>68</td>\n",
              "      <td>2135</td>\n",
              "      <td>Four</td>\n",
              "    </tr>\n",
              "    <tr>\n",
              "      <th>3</th>\n",
              "      <td>16.9</td>\n",
              "      <td>116.0</td>\n",
              "      <td>81</td>\n",
              "      <td>2220</td>\n",
              "      <td>Four</td>\n",
              "    </tr>\n",
              "    <tr>\n",
              "      <th>4</th>\n",
              "      <td>15.0</td>\n",
              "      <td>120.0</td>\n",
              "      <td>97</td>\n",
              "      <td>2489</td>\n",
              "      <td>Four</td>\n",
              "    </tr>\n",
              "    <tr>\n",
              "      <th>...</th>\n",
              "      <td>...</td>\n",
              "      <td>...</td>\n",
              "      <td>...</td>\n",
              "      <td>...</td>\n",
              "      <td>...</td>\n",
              "    </tr>\n",
              "    <tr>\n",
              "      <th>225</th>\n",
              "      <td>16.0</td>\n",
              "      <td>135.0</td>\n",
              "      <td>84</td>\n",
              "      <td>2525</td>\n",
              "      <td>Four</td>\n",
              "    </tr>\n",
              "    <tr>\n",
              "      <th>226</th>\n",
              "      <td>16.5</td>\n",
              "      <td>122.0</td>\n",
              "      <td>80</td>\n",
              "      <td>2451</td>\n",
              "      <td>Four</td>\n",
              "    </tr>\n",
              "    <tr>\n",
              "      <th>227</th>\n",
              "      <td>16.4</td>\n",
              "      <td>86.0</td>\n",
              "      <td>64</td>\n",
              "      <td>1875</td>\n",
              "      <td>Four</td>\n",
              "    </tr>\n",
              "    <tr>\n",
              "      <th>228</th>\n",
              "      <td>13.5</td>\n",
              "      <td>70.0</td>\n",
              "      <td>97</td>\n",
              "      <td>2330</td>\n",
              "      <td>Three</td>\n",
              "    </tr>\n",
              "    <tr>\n",
              "      <th>229</th>\n",
              "      <td>15.3</td>\n",
              "      <td>89.0</td>\n",
              "      <td>62</td>\n",
              "      <td>1845</td>\n",
              "      <td>Four</td>\n",
              "    </tr>\n",
              "  </tbody>\n",
              "</table>\n",
              "<p>230 rows × 5 columns</p>\n",
              "</div>\n",
              "      <button class=\"colab-df-convert\" onclick=\"convertToInteractive('df-7adc82a7-59a0-43ae-b07f-95debb5d7036')\"\n",
              "              title=\"Convert this dataframe to an interactive table.\"\n",
              "              style=\"display:none;\">\n",
              "        \n",
              "  <svg xmlns=\"http://www.w3.org/2000/svg\" height=\"24px\"viewBox=\"0 0 24 24\"\n",
              "       width=\"24px\">\n",
              "    <path d=\"M0 0h24v24H0V0z\" fill=\"none\"/>\n",
              "    <path d=\"M18.56 5.44l.94 2.06.94-2.06 2.06-.94-2.06-.94-.94-2.06-.94 2.06-2.06.94zm-11 1L8.5 8.5l.94-2.06 2.06-.94-2.06-.94L8.5 2.5l-.94 2.06-2.06.94zm10 10l.94 2.06.94-2.06 2.06-.94-2.06-.94-.94-2.06-.94 2.06-2.06.94z\"/><path d=\"M17.41 7.96l-1.37-1.37c-.4-.4-.92-.59-1.43-.59-.52 0-1.04.2-1.43.59L10.3 9.45l-7.72 7.72c-.78.78-.78 2.05 0 2.83L4 21.41c.39.39.9.59 1.41.59.51 0 1.02-.2 1.41-.59l7.78-7.78 2.81-2.81c.8-.78.8-2.07 0-2.86zM5.41 20L4 18.59l7.72-7.72 1.47 1.35L5.41 20z\"/>\n",
              "  </svg>\n",
              "      </button>\n",
              "      \n",
              "  <style>\n",
              "    .colab-df-container {\n",
              "      display:flex;\n",
              "      flex-wrap:wrap;\n",
              "      gap: 12px;\n",
              "    }\n",
              "\n",
              "    .colab-df-convert {\n",
              "      background-color: #E8F0FE;\n",
              "      border: none;\n",
              "      border-radius: 50%;\n",
              "      cursor: pointer;\n",
              "      display: none;\n",
              "      fill: #1967D2;\n",
              "      height: 32px;\n",
              "      padding: 0 0 0 0;\n",
              "      width: 32px;\n",
              "    }\n",
              "\n",
              "    .colab-df-convert:hover {\n",
              "      background-color: #E2EBFA;\n",
              "      box-shadow: 0px 1px 2px rgba(60, 64, 67, 0.3), 0px 1px 3px 1px rgba(60, 64, 67, 0.15);\n",
              "      fill: #174EA6;\n",
              "    }\n",
              "\n",
              "    [theme=dark] .colab-df-convert {\n",
              "      background-color: #3B4455;\n",
              "      fill: #D2E3FC;\n",
              "    }\n",
              "\n",
              "    [theme=dark] .colab-df-convert:hover {\n",
              "      background-color: #434B5C;\n",
              "      box-shadow: 0px 1px 3px 1px rgba(0, 0, 0, 0.15);\n",
              "      filter: drop-shadow(0px 1px 2px rgba(0, 0, 0, 0.3));\n",
              "      fill: #FFFFFF;\n",
              "    }\n",
              "  </style>\n",
              "\n",
              "      <script>\n",
              "        const buttonEl =\n",
              "          document.querySelector('#df-7adc82a7-59a0-43ae-b07f-95debb5d7036 button.colab-df-convert');\n",
              "        buttonEl.style.display =\n",
              "          google.colab.kernel.accessAllowed ? 'block' : 'none';\n",
              "\n",
              "        async function convertToInteractive(key) {\n",
              "          const element = document.querySelector('#df-7adc82a7-59a0-43ae-b07f-95debb5d7036');\n",
              "          const dataTable =\n",
              "            await google.colab.kernel.invokeFunction('convertToInteractive',\n",
              "                                                     [key], {});\n",
              "          if (!dataTable) return;\n",
              "\n",
              "          const docLinkHtml = 'Like what you see? Visit the ' +\n",
              "            '<a target=\"_blank\" href=https://colab.research.google.com/notebooks/data_table.ipynb>data table notebook</a>'\n",
              "            + ' to learn more about interactive tables.';\n",
              "          element.innerHTML = '';\n",
              "          dataTable['output_type'] = 'display_data';\n",
              "          await google.colab.output.renderOutput(dataTable, element);\n",
              "          const docLink = document.createElement('div');\n",
              "          docLink.innerHTML = docLinkHtml;\n",
              "          element.appendChild(docLink);\n",
              "        }\n",
              "      </script>\n",
              "    </div>\n",
              "  </div>\n",
              "  "
            ]
          },
          "metadata": {},
          "execution_count": 422
        }
      ]
    },
    {
      "cell_type": "markdown",
      "source": [
        "#3-afficher x et y"
      ],
      "metadata": {
        "id": "f2DhUTd7VTBI"
      }
    },
    {
      "cell_type": "code",
      "source": [
        "from sklearn.compose import ColumnTransformer\n",
        "from sklearn.preprocessing import LabelEncoder, OneHotEncoder\n",
        "# Sélectionner les colonnes pour x et y\n",
        "x = data.iloc[:, 1:]  # Colonnes à partir de l'index 1\n",
        "y = data.iloc[:, 0]  # Première colonne"
      ],
      "metadata": {
        "id": "U_d3Y-faPpVP"
      },
      "execution_count": 423,
      "outputs": []
    },
    {
      "cell_type": "code",
      "source": [
        "x"
      ],
      "metadata": {
        "colab": {
          "base_uri": "https://localhost:8080/",
          "height": 423
        },
        "id": "AZFK-k2Pky3p",
        "outputId": "6d94fece-7e52-491c-ba6e-309271249387"
      },
      "execution_count": 424,
      "outputs": [
        {
          "output_type": "execute_result",
          "data": {
            "text/plain": [
              "     engine.displacement  horesepower  weight cylinders\n",
              "0                  302.0          140    4638     Eight\n",
              "1                   79.0           67    2000      Four\n",
              "2                   98.0           68    2135      Four\n",
              "3                  116.0           81    2220      Four\n",
              "4                  120.0           97    2489      Four\n",
              "..                   ...          ...     ...       ...\n",
              "225                135.0           84    2525      Four\n",
              "226                122.0           80    2451      Four\n",
              "227                 86.0           64    1875      Four\n",
              "228                 70.0           97    2330     Three\n",
              "229                 89.0           62    1845      Four\n",
              "\n",
              "[230 rows x 4 columns]"
            ],
            "text/html": [
              "\n",
              "  <div id=\"df-61c90f55-15d7-4a11-932d-172d637b28db\">\n",
              "    <div class=\"colab-df-container\">\n",
              "      <div>\n",
              "<style scoped>\n",
              "    .dataframe tbody tr th:only-of-type {\n",
              "        vertical-align: middle;\n",
              "    }\n",
              "\n",
              "    .dataframe tbody tr th {\n",
              "        vertical-align: top;\n",
              "    }\n",
              "\n",
              "    .dataframe thead th {\n",
              "        text-align: right;\n",
              "    }\n",
              "</style>\n",
              "<table border=\"1\" class=\"dataframe\">\n",
              "  <thead>\n",
              "    <tr style=\"text-align: right;\">\n",
              "      <th></th>\n",
              "      <th>engine.displacement</th>\n",
              "      <th>horesepower</th>\n",
              "      <th>weight</th>\n",
              "      <th>cylinders</th>\n",
              "    </tr>\n",
              "  </thead>\n",
              "  <tbody>\n",
              "    <tr>\n",
              "      <th>0</th>\n",
              "      <td>302.0</td>\n",
              "      <td>140</td>\n",
              "      <td>4638</td>\n",
              "      <td>Eight</td>\n",
              "    </tr>\n",
              "    <tr>\n",
              "      <th>1</th>\n",
              "      <td>79.0</td>\n",
              "      <td>67</td>\n",
              "      <td>2000</td>\n",
              "      <td>Four</td>\n",
              "    </tr>\n",
              "    <tr>\n",
              "      <th>2</th>\n",
              "      <td>98.0</td>\n",
              "      <td>68</td>\n",
              "      <td>2135</td>\n",
              "      <td>Four</td>\n",
              "    </tr>\n",
              "    <tr>\n",
              "      <th>3</th>\n",
              "      <td>116.0</td>\n",
              "      <td>81</td>\n",
              "      <td>2220</td>\n",
              "      <td>Four</td>\n",
              "    </tr>\n",
              "    <tr>\n",
              "      <th>4</th>\n",
              "      <td>120.0</td>\n",
              "      <td>97</td>\n",
              "      <td>2489</td>\n",
              "      <td>Four</td>\n",
              "    </tr>\n",
              "    <tr>\n",
              "      <th>...</th>\n",
              "      <td>...</td>\n",
              "      <td>...</td>\n",
              "      <td>...</td>\n",
              "      <td>...</td>\n",
              "    </tr>\n",
              "    <tr>\n",
              "      <th>225</th>\n",
              "      <td>135.0</td>\n",
              "      <td>84</td>\n",
              "      <td>2525</td>\n",
              "      <td>Four</td>\n",
              "    </tr>\n",
              "    <tr>\n",
              "      <th>226</th>\n",
              "      <td>122.0</td>\n",
              "      <td>80</td>\n",
              "      <td>2451</td>\n",
              "      <td>Four</td>\n",
              "    </tr>\n",
              "    <tr>\n",
              "      <th>227</th>\n",
              "      <td>86.0</td>\n",
              "      <td>64</td>\n",
              "      <td>1875</td>\n",
              "      <td>Four</td>\n",
              "    </tr>\n",
              "    <tr>\n",
              "      <th>228</th>\n",
              "      <td>70.0</td>\n",
              "      <td>97</td>\n",
              "      <td>2330</td>\n",
              "      <td>Three</td>\n",
              "    </tr>\n",
              "    <tr>\n",
              "      <th>229</th>\n",
              "      <td>89.0</td>\n",
              "      <td>62</td>\n",
              "      <td>1845</td>\n",
              "      <td>Four</td>\n",
              "    </tr>\n",
              "  </tbody>\n",
              "</table>\n",
              "<p>230 rows × 4 columns</p>\n",
              "</div>\n",
              "      <button class=\"colab-df-convert\" onclick=\"convertToInteractive('df-61c90f55-15d7-4a11-932d-172d637b28db')\"\n",
              "              title=\"Convert this dataframe to an interactive table.\"\n",
              "              style=\"display:none;\">\n",
              "        \n",
              "  <svg xmlns=\"http://www.w3.org/2000/svg\" height=\"24px\"viewBox=\"0 0 24 24\"\n",
              "       width=\"24px\">\n",
              "    <path d=\"M0 0h24v24H0V0z\" fill=\"none\"/>\n",
              "    <path d=\"M18.56 5.44l.94 2.06.94-2.06 2.06-.94-2.06-.94-.94-2.06-.94 2.06-2.06.94zm-11 1L8.5 8.5l.94-2.06 2.06-.94-2.06-.94L8.5 2.5l-.94 2.06-2.06.94zm10 10l.94 2.06.94-2.06 2.06-.94-2.06-.94-.94-2.06-.94 2.06-2.06.94z\"/><path d=\"M17.41 7.96l-1.37-1.37c-.4-.4-.92-.59-1.43-.59-.52 0-1.04.2-1.43.59L10.3 9.45l-7.72 7.72c-.78.78-.78 2.05 0 2.83L4 21.41c.39.39.9.59 1.41.59.51 0 1.02-.2 1.41-.59l7.78-7.78 2.81-2.81c.8-.78.8-2.07 0-2.86zM5.41 20L4 18.59l7.72-7.72 1.47 1.35L5.41 20z\"/>\n",
              "  </svg>\n",
              "      </button>\n",
              "      \n",
              "  <style>\n",
              "    .colab-df-container {\n",
              "      display:flex;\n",
              "      flex-wrap:wrap;\n",
              "      gap: 12px;\n",
              "    }\n",
              "\n",
              "    .colab-df-convert {\n",
              "      background-color: #E8F0FE;\n",
              "      border: none;\n",
              "      border-radius: 50%;\n",
              "      cursor: pointer;\n",
              "      display: none;\n",
              "      fill: #1967D2;\n",
              "      height: 32px;\n",
              "      padding: 0 0 0 0;\n",
              "      width: 32px;\n",
              "    }\n",
              "\n",
              "    .colab-df-convert:hover {\n",
              "      background-color: #E2EBFA;\n",
              "      box-shadow: 0px 1px 2px rgba(60, 64, 67, 0.3), 0px 1px 3px 1px rgba(60, 64, 67, 0.15);\n",
              "      fill: #174EA6;\n",
              "    }\n",
              "\n",
              "    [theme=dark] .colab-df-convert {\n",
              "      background-color: #3B4455;\n",
              "      fill: #D2E3FC;\n",
              "    }\n",
              "\n",
              "    [theme=dark] .colab-df-convert:hover {\n",
              "      background-color: #434B5C;\n",
              "      box-shadow: 0px 1px 3px 1px rgba(0, 0, 0, 0.15);\n",
              "      filter: drop-shadow(0px 1px 2px rgba(0, 0, 0, 0.3));\n",
              "      fill: #FFFFFF;\n",
              "    }\n",
              "  </style>\n",
              "\n",
              "      <script>\n",
              "        const buttonEl =\n",
              "          document.querySelector('#df-61c90f55-15d7-4a11-932d-172d637b28db button.colab-df-convert');\n",
              "        buttonEl.style.display =\n",
              "          google.colab.kernel.accessAllowed ? 'block' : 'none';\n",
              "\n",
              "        async function convertToInteractive(key) {\n",
              "          const element = document.querySelector('#df-61c90f55-15d7-4a11-932d-172d637b28db');\n",
              "          const dataTable =\n",
              "            await google.colab.kernel.invokeFunction('convertToInteractive',\n",
              "                                                     [key], {});\n",
              "          if (!dataTable) return;\n",
              "\n",
              "          const docLinkHtml = 'Like what you see? Visit the ' +\n",
              "            '<a target=\"_blank\" href=https://colab.research.google.com/notebooks/data_table.ipynb>data table notebook</a>'\n",
              "            + ' to learn more about interactive tables.';\n",
              "          element.innerHTML = '';\n",
              "          dataTable['output_type'] = 'display_data';\n",
              "          await google.colab.output.renderOutput(dataTable, element);\n",
              "          const docLink = document.createElement('div');\n",
              "          docLink.innerHTML = docLinkHtml;\n",
              "          element.appendChild(docLink);\n",
              "        }\n",
              "      </script>\n",
              "    </div>\n",
              "  </div>\n",
              "  "
            ]
          },
          "metadata": {},
          "execution_count": 424
        }
      ]
    },
    {
      "cell_type": "code",
      "source": [
        "y"
      ],
      "metadata": {
        "colab": {
          "base_uri": "https://localhost:8080/"
        },
        "id": "ZaL9KoAG0D1R",
        "outputId": "0bf1c57c-77f1-442e-f116-c4169f2c3268"
      },
      "execution_count": 425,
      "outputs": [
        {
          "output_type": "execute_result",
          "data": {
            "text/plain": [
              "0      16.0\n",
              "1      16.0\n",
              "2      16.6\n",
              "3      16.9\n",
              "4      15.0\n",
              "       ... \n",
              "225    16.0\n",
              "226    16.5\n",
              "227    16.4\n",
              "228    13.5\n",
              "229    15.3\n",
              "Name: acceleration, Length: 230, dtype: float64"
            ]
          },
          "metadata": {},
          "execution_count": 425
        }
      ]
    },
    {
      "cell_type": "markdown",
      "source": [
        "#4-crée x2 et y2 sous forme tableau de tableau et représenter la colonne \"cylinders\" sous forme de variables binaires en utilisant les classes OneHotEncoder et ColumnTransformer"
      ],
      "metadata": {
        "id": "yeVcDgntCdLd"
      }
    },
    {
      "cell_type": "code",
      "source": [
        "\n",
        "# on dois dabord présenter x en fonction de tableau de tableau\n",
        "x2=x.values\n",
        "y2=y.values\n",
        "\n",
        "from sklearn.preprocessing import OneHotEncoder\n",
        "\n",
        "ct = ColumnTransformer([('cylinders', OneHotEncoder(), [3])], remainder='passthrough')\n",
        "x2 = ct.fit_transform(x2)\n",
        "x2"
      ],
      "metadata": {
        "colab": {
          "base_uri": "https://localhost:8080/"
        },
        "id": "UtjJXAuJkYdG",
        "outputId": "9cc0f5c5-a64c-4562-f251-125bf1958932"
      },
      "execution_count": 426,
      "outputs": [
        {
          "output_type": "execute_result",
          "data": {
            "text/plain": [
              "array([[1.0, 0.0, 0.0, ..., 302.0, 140, 4638],\n",
              "       [0.0, 0.0, 1.0, ..., 79.0, 67, 2000],\n",
              "       [0.0, 0.0, 1.0, ..., 98.0, 68, 2135],\n",
              "       ...,\n",
              "       [0.0, 0.0, 1.0, ..., 86.0, 64, 1875],\n",
              "       [0.0, 0.0, 0.0, ..., 70.0, 97, 2330],\n",
              "       [0.0, 0.0, 1.0, ..., 89.0, 62, 1845]], dtype=object)"
            ]
          },
          "metadata": {},
          "execution_count": 426
        }
      ]
    },
    {
      "cell_type": "markdown",
      "source": [
        "#5-Divisez les données en ensembles d'entraînement train et de test\n"
      ],
      "metadata": {
        "id": "w9Q_SJEoWFol"
      }
    },
    {
      "cell_type": "code",
      "source": [
        "from sklearn.model_selection import train_test_split\n",
        "\n",
        "x2_train, x2_test, y2_train, y2_test = train_test_split(x2, y2, test_size=0.2)\n"
      ],
      "metadata": {
        "id": "5LgHZupLRL2S"
      },
      "execution_count": 427,
      "outputs": []
    },
    {
      "cell_type": "markdown",
      "source": [
        "#6-afficher le score du modèle de régression linéaire multiple"
      ],
      "metadata": {
        "id": "OiIzOY-jWGOc"
      }
    },
    {
      "cell_type": "code",
      "source": [
        "from sklearn.linear_model import LinearRegression\n",
        "\n",
        "# Création du modèle\n",
        "model = LinearRegression()\n",
        "\n",
        "# Entraînement\n",
        "model.fit(x2_train, y2_train)\n",
        "\n",
        "# Affichage du score\n",
        "score = model.score(x2_test, y2_test)\n",
        "print(\"Score du modèle de régression linéaire multiple :\", score)\n"
      ],
      "metadata": {
        "colab": {
          "base_uri": "https://localhost:8080/"
        },
        "id": "SG_TZ6zyWGrB",
        "outputId": "c37df768-35e5-454c-d135-86f72da4932f"
      },
      "execution_count": 428,
      "outputs": [
        {
          "output_type": "stream",
          "name": "stdout",
          "text": [
            "Score du modèle de régression linéaire multiple : 0.7217104940835222\n"
          ]
        }
      ]
    },
    {
      "cell_type": "markdown",
      "source": [
        "#7-afficher la résultat de preduction pour \n",
        "cylinders:Four | engine.displacement:200 | **Color**:Red\t| horesepower: 80 | weight:2638\n",
        "\n"
      ],
      "metadata": {
        "id": "iJ7THYSQWHT9"
      }
    },
    {
      "cell_type": "code",
      "source": [
        "V_test=[[0.0, 0.0, 1.0, 0.0, 0.0, 200, 80, 2638]]\n",
        "y_res=model.predict(V_test)\n",
        "print(\"la résultat de prédection des x2 est :\",y_res)"
      ],
      "metadata": {
        "colab": {
          "base_uri": "https://localhost:8080/"
        },
        "id": "GdmqYWR1FQaa",
        "outputId": "8d51494d-0639-44b1-9e22-b14f7ae3ddd6"
      },
      "execution_count": 429,
      "outputs": [
        {
          "output_type": "stream",
          "name": "stdout",
          "text": [
            "la résultat de prédection des x2 est : [16.35905057]\n"
          ]
        }
      ]
    },
    {
      "cell_type": "code",
      "source": [
        "x"
      ],
      "metadata": {
        "colab": {
          "base_uri": "https://localhost:8080/",
          "height": 423
        },
        "id": "slwJ4W0E2fwH",
        "outputId": "44cb57a2-839b-4dd2-e3b8-9dab6f92f6f7"
      },
      "execution_count": 430,
      "outputs": [
        {
          "output_type": "execute_result",
          "data": {
            "text/plain": [
              "     engine.displacement  horesepower  weight cylinders\n",
              "0                  302.0          140    4638     Eight\n",
              "1                   79.0           67    2000      Four\n",
              "2                   98.0           68    2135      Four\n",
              "3                  116.0           81    2220      Four\n",
              "4                  120.0           97    2489      Four\n",
              "..                   ...          ...     ...       ...\n",
              "225                135.0           84    2525      Four\n",
              "226                122.0           80    2451      Four\n",
              "227                 86.0           64    1875      Four\n",
              "228                 70.0           97    2330     Three\n",
              "229                 89.0           62    1845      Four\n",
              "\n",
              "[230 rows x 4 columns]"
            ],
            "text/html": [
              "\n",
              "  <div id=\"df-51183e13-7416-42d9-945c-370570a1d6c8\">\n",
              "    <div class=\"colab-df-container\">\n",
              "      <div>\n",
              "<style scoped>\n",
              "    .dataframe tbody tr th:only-of-type {\n",
              "        vertical-align: middle;\n",
              "    }\n",
              "\n",
              "    .dataframe tbody tr th {\n",
              "        vertical-align: top;\n",
              "    }\n",
              "\n",
              "    .dataframe thead th {\n",
              "        text-align: right;\n",
              "    }\n",
              "</style>\n",
              "<table border=\"1\" class=\"dataframe\">\n",
              "  <thead>\n",
              "    <tr style=\"text-align: right;\">\n",
              "      <th></th>\n",
              "      <th>engine.displacement</th>\n",
              "      <th>horesepower</th>\n",
              "      <th>weight</th>\n",
              "      <th>cylinders</th>\n",
              "    </tr>\n",
              "  </thead>\n",
              "  <tbody>\n",
              "    <tr>\n",
              "      <th>0</th>\n",
              "      <td>302.0</td>\n",
              "      <td>140</td>\n",
              "      <td>4638</td>\n",
              "      <td>Eight</td>\n",
              "    </tr>\n",
              "    <tr>\n",
              "      <th>1</th>\n",
              "      <td>79.0</td>\n",
              "      <td>67</td>\n",
              "      <td>2000</td>\n",
              "      <td>Four</td>\n",
              "    </tr>\n",
              "    <tr>\n",
              "      <th>2</th>\n",
              "      <td>98.0</td>\n",
              "      <td>68</td>\n",
              "      <td>2135</td>\n",
              "      <td>Four</td>\n",
              "    </tr>\n",
              "    <tr>\n",
              "      <th>3</th>\n",
              "      <td>116.0</td>\n",
              "      <td>81</td>\n",
              "      <td>2220</td>\n",
              "      <td>Four</td>\n",
              "    </tr>\n",
              "    <tr>\n",
              "      <th>4</th>\n",
              "      <td>120.0</td>\n",
              "      <td>97</td>\n",
              "      <td>2489</td>\n",
              "      <td>Four</td>\n",
              "    </tr>\n",
              "    <tr>\n",
              "      <th>...</th>\n",
              "      <td>...</td>\n",
              "      <td>...</td>\n",
              "      <td>...</td>\n",
              "      <td>...</td>\n",
              "    </tr>\n",
              "    <tr>\n",
              "      <th>225</th>\n",
              "      <td>135.0</td>\n",
              "      <td>84</td>\n",
              "      <td>2525</td>\n",
              "      <td>Four</td>\n",
              "    </tr>\n",
              "    <tr>\n",
              "      <th>226</th>\n",
              "      <td>122.0</td>\n",
              "      <td>80</td>\n",
              "      <td>2451</td>\n",
              "      <td>Four</td>\n",
              "    </tr>\n",
              "    <tr>\n",
              "      <th>227</th>\n",
              "      <td>86.0</td>\n",
              "      <td>64</td>\n",
              "      <td>1875</td>\n",
              "      <td>Four</td>\n",
              "    </tr>\n",
              "    <tr>\n",
              "      <th>228</th>\n",
              "      <td>70.0</td>\n",
              "      <td>97</td>\n",
              "      <td>2330</td>\n",
              "      <td>Three</td>\n",
              "    </tr>\n",
              "    <tr>\n",
              "      <th>229</th>\n",
              "      <td>89.0</td>\n",
              "      <td>62</td>\n",
              "      <td>1845</td>\n",
              "      <td>Four</td>\n",
              "    </tr>\n",
              "  </tbody>\n",
              "</table>\n",
              "<p>230 rows × 4 columns</p>\n",
              "</div>\n",
              "      <button class=\"colab-df-convert\" onclick=\"convertToInteractive('df-51183e13-7416-42d9-945c-370570a1d6c8')\"\n",
              "              title=\"Convert this dataframe to an interactive table.\"\n",
              "              style=\"display:none;\">\n",
              "        \n",
              "  <svg xmlns=\"http://www.w3.org/2000/svg\" height=\"24px\"viewBox=\"0 0 24 24\"\n",
              "       width=\"24px\">\n",
              "    <path d=\"M0 0h24v24H0V0z\" fill=\"none\"/>\n",
              "    <path d=\"M18.56 5.44l.94 2.06.94-2.06 2.06-.94-2.06-.94-.94-2.06-.94 2.06-2.06.94zm-11 1L8.5 8.5l.94-2.06 2.06-.94-2.06-.94L8.5 2.5l-.94 2.06-2.06.94zm10 10l.94 2.06.94-2.06 2.06-.94-2.06-.94-.94-2.06-.94 2.06-2.06.94z\"/><path d=\"M17.41 7.96l-1.37-1.37c-.4-.4-.92-.59-1.43-.59-.52 0-1.04.2-1.43.59L10.3 9.45l-7.72 7.72c-.78.78-.78 2.05 0 2.83L4 21.41c.39.39.9.59 1.41.59.51 0 1.02-.2 1.41-.59l7.78-7.78 2.81-2.81c.8-.78.8-2.07 0-2.86zM5.41 20L4 18.59l7.72-7.72 1.47 1.35L5.41 20z\"/>\n",
              "  </svg>\n",
              "      </button>\n",
              "      \n",
              "  <style>\n",
              "    .colab-df-container {\n",
              "      display:flex;\n",
              "      flex-wrap:wrap;\n",
              "      gap: 12px;\n",
              "    }\n",
              "\n",
              "    .colab-df-convert {\n",
              "      background-color: #E8F0FE;\n",
              "      border: none;\n",
              "      border-radius: 50%;\n",
              "      cursor: pointer;\n",
              "      display: none;\n",
              "      fill: #1967D2;\n",
              "      height: 32px;\n",
              "      padding: 0 0 0 0;\n",
              "      width: 32px;\n",
              "    }\n",
              "\n",
              "    .colab-df-convert:hover {\n",
              "      background-color: #E2EBFA;\n",
              "      box-shadow: 0px 1px 2px rgba(60, 64, 67, 0.3), 0px 1px 3px 1px rgba(60, 64, 67, 0.15);\n",
              "      fill: #174EA6;\n",
              "    }\n",
              "\n",
              "    [theme=dark] .colab-df-convert {\n",
              "      background-color: #3B4455;\n",
              "      fill: #D2E3FC;\n",
              "    }\n",
              "\n",
              "    [theme=dark] .colab-df-convert:hover {\n",
              "      background-color: #434B5C;\n",
              "      box-shadow: 0px 1px 3px 1px rgba(0, 0, 0, 0.15);\n",
              "      filter: drop-shadow(0px 1px 2px rgba(0, 0, 0, 0.3));\n",
              "      fill: #FFFFFF;\n",
              "    }\n",
              "  </style>\n",
              "\n",
              "      <script>\n",
              "        const buttonEl =\n",
              "          document.querySelector('#df-51183e13-7416-42d9-945c-370570a1d6c8 button.colab-df-convert');\n",
              "        buttonEl.style.display =\n",
              "          google.colab.kernel.accessAllowed ? 'block' : 'none';\n",
              "\n",
              "        async function convertToInteractive(key) {\n",
              "          const element = document.querySelector('#df-51183e13-7416-42d9-945c-370570a1d6c8');\n",
              "          const dataTable =\n",
              "            await google.colab.kernel.invokeFunction('convertToInteractive',\n",
              "                                                     [key], {});\n",
              "          if (!dataTable) return;\n",
              "\n",
              "          const docLinkHtml = 'Like what you see? Visit the ' +\n",
              "            '<a target=\"_blank\" href=https://colab.research.google.com/notebooks/data_table.ipynb>data table notebook</a>'\n",
              "            + ' to learn more about interactive tables.';\n",
              "          element.innerHTML = '';\n",
              "          dataTable['output_type'] = 'display_data';\n",
              "          await google.colab.output.renderOutput(dataTable, element);\n",
              "          const docLink = document.createElement('div');\n",
              "          docLink.innerHTML = docLinkHtml;\n",
              "          element.appendChild(docLink);\n",
              "        }\n",
              "      </script>\n",
              "    </div>\n",
              "  </div>\n",
              "  "
            ]
          },
          "metadata": {},
          "execution_count": 430
        }
      ]
    },
    {
      "cell_type": "markdown",
      "source": [
        "#8-Utilisez la méthode des moindres carrés polynomiaux en fonction de la variable \"engine.displacement\" avec degrée 9"
      ],
      "metadata": {
        "id": "5gwccGkYZBmn"
      }
    },
    {
      "cell_type": "code",
      "source": [
        "from sklearn.preprocessing import PolynomialFeatures\n",
        "from sklearn.linear_model import LinearRegression\n",
        "from sklearn.metrics import r2_score\n",
        "\n",
        "#Divisez les données en ensembles d'entraînement train et de test\n",
        "x_train, x_test, y_train, y_test = train_test_split(x, y, test_size=0.2)\n",
        "\n",
        "poly = PolynomialFeatures(degree=9)\n",
        "p_engine_train = poly.fit_transform(x_train[[\"engine.displacement\"]])\n",
        "p_engine_test = poly.fit_transform(x_test[[\"engine.displacement\"]])\n",
        "\n",
        "# create the model\n",
        "predic = LinearRegression().fit(p_engine_train, y_train)\n",
        "ypred_engine = predic.predict(p_engine_test)\n",
        "\n",
        "score_engine = r2_score(y_test, ypred_engine)\n",
        "print(\"The score is\", score_engine)\n"
      ],
      "metadata": {
        "id": "MFsERdabZvxj",
        "colab": {
          "base_uri": "https://localhost:8080/"
        },
        "outputId": "45fe5b51-9539-4c92-d471-9617e24d1c6d"
      },
      "execution_count": 431,
      "outputs": [
        {
          "output_type": "stream",
          "name": "stdout",
          "text": [
            "The score is 0.2913644253869099\n"
          ]
        }
      ]
    },
    {
      "cell_type": "markdown",
      "source": [
        "\n",
        "#9-Affichez le nuage de points des données avec la variable \"engine.displacement\" et tracez également la courbe du polynôme ajusté.\n"
      ],
      "metadata": {
        "id": "yRIqifweZyLW"
      }
    },
    {
      "cell_type": "code",
      "source": [
        "import numpy as np\n",
        "import matplotlib.pyplot as plt\n",
        "\n",
        "# Assuming you have already performed the necessary data preparation steps\n",
        "\n",
        "# Plot scatter plot of the data\n",
        "plt.scatter(x_test[\"engine.displacement\"], y_test, color='red', label='Test Data')\n",
        "\n",
        "# Affichage de la régression polynomiale\n",
        "new_x_poly, new_y_poly = zip(*sorted(zip(x_test[\"engine.displacement\"], ypred_engine)))\n",
        "plt.plot(new_x_poly, new_y_poly, \"o-\", color=\"g\", label=\"Polynomial Regression\")\n",
        "\n",
        "\n",
        "plt.xlabel('engine.displacement')\n",
        "plt.ylabel('Target Variable')\n",
        "plt.title('methode polymial')\n",
        "plt.legend()\n",
        "\n",
        "plt.show()\n"
      ],
      "metadata": {
        "id": "iOO0eIHKZxQW",
        "colab": {
          "base_uri": "https://localhost:8080/",
          "height": 472
        },
        "outputId": "c4a043dc-1406-4c69-d52d-9249b592a211"
      },
      "execution_count": 432,
      "outputs": [
        {
          "output_type": "display_data",
          "data": {
            "text/plain": [
              "<Figure size 640x480 with 1 Axes>"
            ],
            "image/png": "[encoded data removed]"
          },
          "metadata": {}
        }
      ]
    },
    {
      "cell_type": "markdown",
      "source": [
        "#10-Utilisez une boucle pour appliquer la méthode des moindres carrés polynomiaux sur le test set (x_test) en faisant varier le degré du polynôme de 0 à 20 pour afficher le meilleur score et le meilleurs degrée"
      ],
      "metadata": {
        "id": "Y5zCdb_8aSdH"
      }
    },
    {
      "cell_type": "code",
      "source": [
        "\n",
        "\n",
        "best_score = 0\n",
        "best_degree = 0\n",
        "\n",
        "for degree in range(20):\n",
        "    poly = PolynomialFeatures(degree=degree)\n",
        "    p_engine_train = poly.fit_transform(x_train[[\"engine.displacement\"]])\n",
        "    p_engine_test = poly.fit_transform(x_test[[\"engine.displacement\"]])\n",
        "\n",
        "    # create the model\n",
        "    predic = LinearRegression().fit(p_engine_train, y_train)\n",
        "    ypred_engine = predic.predict(p_engine_test)\n",
        "\n",
        "    score_engine5 = r2_score(y_test, ypred_engine)\n",
        "    \n",
        "    # Check if the current score is better than the previous best score\n",
        "    if score_engine5 > best_score:\n",
        "        best_score = score_engine5\n",
        "        best_degree = degree\n",
        "\n",
        "print(\"le meilleur score est \", best_score)\n",
        "print(\"la meilleur degrée est\", best_degree)\n"
      ],
      "metadata": {
        "id": "XashYhNPcxHK",
        "colab": {
          "base_uri": "https://localhost:8080/"
        },
        "outputId": "303a0461-1543-43db-9a9c-19c558b5c026"
      },
      "execution_count": 433,
      "outputs": [
        {
          "output_type": "stream",
          "name": "stdout",
          "text": [
            "le meilleur score est  0.3521654384179097\n",
            "la meilleur degrée est 6\n"
          ]
        }
      ]
    },
    {
      "cell_type": "markdown",
      "source": [
        "#11-A quoi recempble la méthode des moindres carrés polynomiaux de la colone engine.displacement si on fixe le degrée à 1"
      ],
      "metadata": {
        "id": "RMI08uHnZyml"
      }
    },
    {
      "cell_type": "code",
      "source": [
        "# elle resemble a la méthode de régression simple de la colone engine.displacement avec le modèle ax+b"
      ],
      "metadata": {
        "id": "dtjCqNfpcwAb"
      },
      "execution_count": 434,
      "outputs": []
    },
    {
      "cell_type": "markdown",
      "source": [
        "#Question challenge 1\n",
        "# afficher le score de regression liniaire pour les 3 premiers colone en utilisant la boucle for"
      ],
      "metadata": {
        "id": "Bk49d-3YG88y"
      }
    },
    {
      "cell_type": "code",
      "source": [
        "from sklearn.linear_model import LinearRegression\n",
        "from sklearn.metrics import r2_score\n",
        "\n",
        "# Sélectionnez les trois premières colonnes de x\n",
        "selected_columns = x.iloc[:, :3]\n",
        "\n",
        "# Créez un dictionnaire pour stocker les R2 scores\n",
        "r2_scores = {}\n",
        "\n",
        "# Parcourez chaque colonne dans les colonnes sélectionnées\n",
        "for column in selected_columns.columns:\n",
        "    # Créez un modèle de régression linéaire\n",
        "    model = LinearRegression()\n",
        "    \n",
        "    # Remodelez la colonne en un tableau 2D comme requis par scikit-learn\n",
        "    X = selected_columns[column].values.reshape(-1, 1)\n",
        "    \n",
        "    # Ajustez le modèle sur la colonne et la variable cible\n",
        "    model.fit(X, y)\n",
        "    \n",
        "    # Prédisez la variable cible en utilisant le modèle ajusté\n",
        "    y_pred = model.predict(X)\n",
        "    \n",
        "    # Calculez le R2 score pour la colonne\n",
        "    score10 = r2_score(y, y_pred)\n",
        "    \n",
        "    # Stockez le R2 score dans le dictionnaire\n",
        "    r2_scores[column] = score10\n",
        "\n",
        "# Affichez les R2 scores\n",
        "for column, score in r2_scores.items():\n",
        "    print(\"Colonne :\", column)\n",
        "    print(\"R2 Score :\", score10)\n",
        "    print()\n"
      ],
      "metadata": {
        "colab": {
          "base_uri": "https://localhost:8080/"
        },
        "id": "QwQVJJe_99cJ",
        "outputId": "f3911d9d-6c7f-4105-89bf-1fd21dec9fcd"
      },
      "execution_count": 435,
      "outputs": [
        {
          "output_type": "stream",
          "name": "stdout",
          "text": [
            "Colonne : engine.displacement\n",
            "R2 Score : 0.1691131457734465\n",
            "\n",
            "Colonne : horesepower\n",
            "R2 Score : 0.1691131457734465\n",
            "\n",
            "Colonne : weight\n",
            "R2 Score : 0.1691131457734465\n",
            "\n"
          ]
        }
      ]
    },
    {
      "cell_type": "markdown",
      "source": [
        "#Question challenge 2\n",
        "# afficher la visualisation des 3 premier colone en utilisant la regression liniaire simple et la boucle for sur une seule figure à 3 colones\n",
        "NB utiliser scores.append pour pouvoir afficher les scores dans l'exercice prochain "
      ],
      "metadata": {
        "id": "yJ8XuW6IHgkE"
      }
    },
    {
      "cell_type": "code",
      "source": [
        "import matplotlib.pyplot as plt\n",
        "\n",
        "# Sélectionnez les trois premières colonnes de x\n",
        "selected_columns = x.iloc[:, :3]\n",
        "\n",
        "# Créez une figure avec trois sous-graphiques pour les régressions linéaires\n",
        "fig, axes = plt.subplots(nrows=1, ncols=3, figsize=(15, 5))\n",
        "\n",
        "# Liste pour stocker les scores\n",
        "scores = []\n",
        "\n",
        "# Parcourez chaque colonne dans les colonnes sélectionnées\n",
        "for i, column in enumerate(selected_columns.columns):\n",
        "    # Créez un modèle de régression linéaire\n",
        "    model = LinearRegression()\n",
        "    \n",
        "    # Remodelez la colonne en un tableau 2D comme requis par scikit-learn\n",
        "    X = selected_columns[column].values.reshape(-1, 1)\n",
        "    \n",
        "    # Ajustez le modèle sur la colonne et la variable cible\n",
        "    model.fit(X, y)\n",
        "    \n",
        "    # Prédisez la variable cible en utilisant le modèle ajusté\n",
        "    y_pred = model.predict(X)\n",
        "    \n",
        "    # Calculez le score R2 pour la colonne\n",
        "    score10 = r2_score(y, y_pred)\n",
        "    scores.append(score10)\n",
        "    \n",
        "    # Tracez les points de données et la ligne de régression dans le sous-graphique\n",
        "    ax = axes[i]\n",
        "    ax.scatter(X, y, color='blue', label='Réel')\n",
        "    ax.plot(X, y_pred, color='red', linewidth=2, label='Prédit')\n",
        "    ax.set_xlabel(column)\n",
        "    ax.set_ylabel('Variable cible')\n",
        "    ax.set_title(f'{column} - R2 Score: {score10:.4f}')\n",
        "    ax.legend()\n",
        "\n",
        "# Ajustez l'espacement entre les sous-graphiques\n",
        "plt.tight_layout()\n",
        "# Affichez la figure des régressions linéaires\n",
        "plt.show()\n"
      ],
      "metadata": {
        "colab": {
          "base_uri": "https://localhost:8080/",
          "height": 365
        },
        "id": "2Yb0WQ_R99ma",
        "outputId": "5e17465e-7767-436a-b295-2691ba1c14e6"
      },
      "execution_count": 436,
      "outputs": [
        {
          "output_type": "display_data",
          "data": {
            "text/plain": [
              "<Figure size 1500x500 with 3 Axes>"
            ],
            "image/png": "[encoded data removed]"
          },
          "metadata": {}
        }
      ]
    },
    {
      "cell_type": "markdown",
      "source": [
        "#Créer le graphe score"
      ],
      "metadata": {
        "id": "rRMmqs_PLVyy"
      }
    },
    {
      "cell_type": "code",
      "source": [
        "# Créez un graphique de score\n",
        "plt.figure(figsize=(8, 6))\n",
        "plt.bar(selected_columns.columns, scores)\n",
        "plt.xlabel('Colonnes')\n",
        "plt.ylabel('Score R2')\n",
        "plt.title('Scores R2 pour les trois premières colonnes')\n",
        "plt.show()"
      ],
      "metadata": {
        "colab": {
          "base_uri": "https://localhost:8080/",
          "height": 565
        },
        "id": "W-9tomBrEzFH",
        "outputId": "e86b021a-5594-4c8b-a5ce-57cd2efe4a4b"
      },
      "execution_count": 437,
      "outputs": [
        {
          "output_type": "display_data",
          "data": {
            "text/plain": [
              "<Figure size 800x600 with 1 Axes>"
            ],
            "image/png": "[encoded data removed]"
          },
          "metadata": {}
        }
      ]
    }
  ]
}
