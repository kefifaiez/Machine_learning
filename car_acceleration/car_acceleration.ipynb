{
  "cells": [
    {
      "cell_type": "code",
      "execution_count": null,
      "metadata": {
        "id": "qb9NY9-qg0BN"
      },
      "outputs": [],
      "source": [
        "import pandas as pd\n",
        "import numpy as np\n",
        "import matplotlib.pyplot as plt\n"
      ]
    },
    {
      "cell_type": "code",
      "execution_count": null,
      "metadata": {
        "id": "SlTp8DI-hJAI"
      },
      "outputs": [],
      "source": [
        "data1=pd.read_excel('/content/cars_acceleration_regression_multiple - sujet.xlsx')"
      ]
    },
    {
      "cell_type": "code",
      "execution_count": null,
      "metadata": {
        "colab": {
          "base_uri": "https://localhost:8080/",
          "height": 423
        },
        "id": "2gnF3ywshUSf",
        "outputId": "5ad33c50-c63f-4dcf-fdde-893a8434300e"
      },
      "outputs": [
        {
          "output_type": "execute_result",
          "data": {
            "text/plain": [
              "     cylinders  engine.displacement  horesepower  weight  acceleration\n",
              "0            8                302.0          140    4638          16.0\n",
              "1            4                 79.0           67    2000          16.0\n",
              "2            4                 98.0           68    2135          16.6\n",
              "3            4                116.0           81    2220          16.9\n",
              "4            4                120.0           97    2489          15.0\n",
              "..         ...                  ...          ...     ...           ...\n",
              "225          4                135.0           84    2525          16.0\n",
              "226          4                122.0           80    2451          16.5\n",
              "227          4                 86.0           64    1875          16.4\n",
              "228          3                 70.0           97    2330          13.5\n",
              "229          4                 89.0           62    1845          15.3\n",
              "\n",
              "[230 rows x 5 columns]"
            ],
            "text/html": [
              "\n",
              "  <div id=\"df-169fdfd8-dbdc-4175-9774-2e16f1cc46b5\">\n",
              "    <div class=\"colab-df-container\">\n",
              "      <div>\n",
              "<style scoped>\n",
              "    .dataframe tbody tr th:only-of-type {\n",
              "        vertical-align: middle;\n",
              "    }\n",
              "\n",
              "    .dataframe tbody tr th {\n",
              "        vertical-align: top;\n",
              "    }\n",
              "\n",
              "    .dataframe thead th {\n",
              "        text-align: right;\n",
              "    }\n",
              "</style>\n",
              "<table border=\"1\" class=\"dataframe\">\n",
              "  <thead>\n",
              "    <tr style=\"text-align: right;\">\n",
              "      <th></th>\n",
              "      <th>cylinders</th>\n",
              "      <th>engine.displacement</th>\n",
              "      <th>horesepower</th>\n",
              "      <th>weight</th>\n",
              "      <th>acceleration</th>\n",
              "    </tr>\n",
              "  </thead>\n",
              "  <tbody>\n",
              "    <tr>\n",
              "      <th>0</th>\n",
              "      <td>8</td>\n",
              "      <td>302.0</td>\n",
              "      <td>140</td>\n",
              "      <td>4638</td>\n",
              "      <td>16.0</td>\n",
              "    </tr>\n",
              "    <tr>\n",
              "      <th>1</th>\n",
              "      <td>4</td>\n",
              "      <td>79.0</td>\n",
              "      <td>67</td>\n",
              "      <td>2000</td>\n",
              "      <td>16.0</td>\n",
              "    </tr>\n",
              "    <tr>\n",
              "      <th>2</th>\n",
              "      <td>4</td>\n",
              "      <td>98.0</td>\n",
              "      <td>68</td>\n",
              "      <td>2135</td>\n",
              "      <td>16.6</td>\n",
              "    </tr>\n",
              "    <tr>\n",
              "      <th>3</th>\n",
              "      <td>4</td>\n",
              "      <td>116.0</td>\n",
              "      <td>81</td>\n",
              "      <td>2220</td>\n",
              "      <td>16.9</td>\n",
              "    </tr>\n",
              "    <tr>\n",
              "      <th>4</th>\n",
              "      <td>4</td>\n",
              "      <td>120.0</td>\n",
              "      <td>97</td>\n",
              "      <td>2489</td>\n",
              "      <td>15.0</td>\n",
              "    </tr>\n",
              "    <tr>\n",
              "      <th>...</th>\n",
              "      <td>...</td>\n",
              "      <td>...</td>\n",
              "      <td>...</td>\n",
              "      <td>...</td>\n",
              "      <td>...</td>\n",
              "    </tr>\n",
              "    <tr>\n",
              "      <th>225</th>\n",
              "      <td>4</td>\n",
              "      <td>135.0</td>\n",
              "      <td>84</td>\n",
              "      <td>2525</td>\n",
              "      <td>16.0</td>\n",
              "    </tr>\n",
              "    <tr>\n",
              "      <th>226</th>\n",
              "      <td>4</td>\n",
              "      <td>122.0</td>\n",
              "      <td>80</td>\n",
              "      <td>2451</td>\n",
              "      <td>16.5</td>\n",
              "    </tr>\n",
              "    <tr>\n",
              "      <th>227</th>\n",
              "      <td>4</td>\n",
              "      <td>86.0</td>\n",
              "      <td>64</td>\n",
              "      <td>1875</td>\n",
              "      <td>16.4</td>\n",
              "    </tr>\n",
              "    <tr>\n",
              "      <th>228</th>\n",
              "      <td>3</td>\n",
              "      <td>70.0</td>\n",
              "      <td>97</td>\n",
              "      <td>2330</td>\n",
              "      <td>13.5</td>\n",
              "    </tr>\n",
              "    <tr>\n",
              "      <th>229</th>\n",
              "      <td>4</td>\n",
              "      <td>89.0</td>\n",
              "      <td>62</td>\n",
              "      <td>1845</td>\n",
              "      <td>15.3</td>\n",
              "    </tr>\n",
              "  </tbody>\n",
              "</table>\n",
              "<p>230 rows × 5 columns</p>\n",
              "</div>\n",
              "      <button class=\"colab-df-convert\" onclick=\"convertToInteractive('df-169fdfd8-dbdc-4175-9774-2e16f1cc46b5')\"\n",
              "              title=\"Convert this dataframe to an interactive table.\"\n",
              "              style=\"display:none;\">\n",
              "        \n",
              "  <svg xmlns=\"http://www.w3.org/2000/svg\" height=\"24px\"viewBox=\"0 0 24 24\"\n",
              "       width=\"24px\">\n",
              "    <path d=\"M0 0h24v24H0V0z\" fill=\"none\"/>\n",
              "    <path d=\"M18.56 5.44l.94 2.06.94-2.06 2.06-.94-2.06-.94-.94-2.06-.94 2.06-2.06.94zm-11 1L8.5 8.5l.94-2.06 2.06-.94-2.06-.94L8.5 2.5l-.94 2.06-2.06.94zm10 10l.94 2.06.94-2.06 2.06-.94-2.06-.94-.94-2.06-.94 2.06-2.06.94z\"/><path d=\"M17.41 7.96l-1.37-1.37c-.4-.4-.92-.59-1.43-.59-.52 0-1.04.2-1.43.59L10.3 9.45l-7.72 7.72c-.78.78-.78 2.05 0 2.83L4 21.41c.39.39.9.59 1.41.59.51 0 1.02-.2 1.41-.59l7.78-7.78 2.81-2.81c.8-.78.8-2.07 0-2.86zM5.41 20L4 18.59l7.72-7.72 1.47 1.35L5.41 20z\"/>\n",
              "  </svg>\n",
              "      </button>\n",
              "      \n",
              "  <style>\n",
              "    .colab-df-container {\n",
              "      display:flex;\n",
              "      flex-wrap:wrap;\n",
              "      gap: 12px;\n",
              "    }\n",
              "\n",
              "    .colab-df-convert {\n",
              "      background-color: #E8F0FE;\n",
              "      border: none;\n",
              "      border-radius: 50%;\n",
              "      cursor: pointer;\n",
              "      display: none;\n",
              "      fill: #1967D2;\n",
              "      height: 32px;\n",
              "      padding: 0 0 0 0;\n",
              "      width: 32px;\n",
              "    }\n",
              "\n",
              "    .colab-df-convert:hover {\n",
              "      background-color: #E2EBFA;\n",
              "      box-shadow: 0px 1px 2px rgba(60, 64, 67, 0.3), 0px 1px 3px 1px rgba(60, 64, 67, 0.15);\n",
              "      fill: #174EA6;\n",
              "    }\n",
              "\n",
              "    [theme=dark] .colab-df-convert {\n",
              "      background-color: #3B4455;\n",
              "      fill: #D2E3FC;\n",
              "    }\n",
              "\n",
              "    [theme=dark] .colab-df-convert:hover {\n",
              "      background-color: #434B5C;\n",
              "      box-shadow: 0px 1px 3px 1px rgba(0, 0, 0, 0.15);\n",
              "      filter: drop-shadow(0px 1px 2px rgba(0, 0, 0, 0.3));\n",
              "      fill: #FFFFFF;\n",
              "    }\n",
              "  </style>\n",
              "\n",
              "      <script>\n",
              "        const buttonEl =\n",
              "          document.querySelector('#df-169fdfd8-dbdc-4175-9774-2e16f1cc46b5 button.colab-df-convert');\n",
              "        buttonEl.style.display =\n",
              "          google.colab.kernel.accessAllowed ? 'block' : 'none';\n",
              "\n",
              "        async function convertToInteractive(key) {\n",
              "          const element = document.querySelector('#df-169fdfd8-dbdc-4175-9774-2e16f1cc46b5');\n",
              "          const dataTable =\n",
              "            await google.colab.kernel.invokeFunction('convertToInteractive',\n",
              "                                                     [key], {});\n",
              "          if (!dataTable) return;\n",
              "\n",
              "          const docLinkHtml = 'Like what you see? Visit the ' +\n",
              "            '<a target=\"_blank\" href=https://colab.research.google.com/notebooks/data_table.ipynb>data table notebook</a>'\n",
              "            + ' to learn more about interactive tables.';\n",
              "          element.innerHTML = '';\n",
              "          dataTable['output_type'] = 'display_data';\n",
              "          await google.colab.output.renderOutput(dataTable, element);\n",
              "          const docLink = document.createElement('div');\n",
              "          docLink.innerHTML = docLinkHtml;\n",
              "          element.appendChild(docLink);\n",
              "        }\n",
              "      </script>\n",
              "    </div>\n",
              "  </div>\n",
              "  "
            ]
          },
          "metadata": {},
          "execution_count": 88
        }
      ],
      "source": [
        "data1"
      ]
    },
    {
      "cell_type": "code",
      "execution_count": null,
      "metadata": {
        "id": "NWVmel-oiGlA"
      },
      "outputs": [],
      "source": [
        "#declaration des x et des y\n",
        "x=data1.iloc[:,:-1]\n",
        "y=data1.iloc[:,-1]"
      ]
    },
    {
      "cell_type": "code",
      "execution_count": null,
      "metadata": {
        "id": "5BnDsL1AhUYe"
      },
      "outputs": [],
      "source": [
        "#split x ey y\n",
        "from sklearn.linear_model import LinearRegression\n",
        "from sklearn.model_selection import train_test_split\n",
        "x_train,x_test,y_train,y_test = train_test_split(x,y,test_size=0.2)"
      ]
    },
    {
      "cell_type": "code",
      "execution_count": null,
      "metadata": {
        "colab": {
          "base_uri": "https://localhost:8080/"
        },
        "id": "iLRACogrhUbC",
        "outputId": "73e6e2bc-d5b4-4f85-d361-e9b540804dff"
      },
      "outputs": [
        {
          "output_type": "execute_result",
          "data": {
            "text/plain": [
              "array([15.79108702, 16.78305666, 15.2307172 , 14.83051547, 16.78825153,\n",
              "       11.59384442, 16.67479405, 16.58415242, 12.80383447, 14.54577713,\n",
              "       18.03968747, 13.71709114, 16.67496718, 12.28889519, 15.06257273,\n",
              "       16.41636738, 15.43960885, 16.60756725, 10.40615776, 16.09596905,\n",
              "       11.77362455, 16.93266632, 16.54905821, 13.76570536, 12.56547365,\n",
              "       15.96134312, 15.91570016, 16.57235496, 15.55973536, 11.77622835,\n",
              "       15.37030094, 17.13255344, 12.18039303, 17.14510193, 14.41591762,\n",
              "       15.95853892, 14.97883543, 17.33318375, 14.99570097, 17.41168249,\n",
              "       16.43543554, 17.09997486, 14.86263326, 13.40538351, 11.9868191 ,\n",
              "       18.45201188])"
            ]
          },
          "metadata": {},
          "execution_count": 91
        }
      ],
      "source": [
        "#creation de modèl\n",
        "model=LinearRegression().fit(x_train,y_train)\n",
        "y_pred=model.predict(x_test)\n",
        "y_pred"
      ]
    },
    {
      "cell_type": "code",
      "execution_count": null,
      "metadata": {
        "colab": {
          "base_uri": "https://localhost:8080/"
        },
        "id": "KTgr2k2ShUdG",
        "outputId": "b19948a3-7e9c-4b5a-8e50-8b1d5c9110b4"
      },
      "outputs": [
        {
          "output_type": "stream",
          "name": "stdout",
          "text": [
            "le score de la régression multiple est  0.2787694462268785\n"
          ]
        }
      ],
      "source": [
        "#calcul de cost\n",
        "from sklearn.metrics import r2_score\n",
        "score=r2_score(y_pred,y_test)\n",
        "print(\"le score de la régression multiple est \",score)"
      ]
    },
    {
      "cell_type": "code",
      "source": [
        "#test des nouveau valeurs\n",
        "\n",
        "x2=[[1,79,58,1825]]\n",
        "y=model.predict(x2)\n",
        "y"
      ],
      "metadata": {
        "colab": {
          "base_uri": "https://localhost:8080/"
        },
        "id": "VYQigM0NvXuV",
        "outputId": "56b3bc63-f07a-4ab0-8c86-75be99391c42"
      },
      "execution_count": null,
      "outputs": [
        {
          "output_type": "stream",
          "name": "stderr",
          "text": [
            "/usr/local/lib/python3.10/dist-packages/sklearn/base.py:439: UserWarning: X does not have valid feature names, but LinearRegression was fitted with feature names\n",
            "  warnings.warn(\n"
          ]
        },
        {
          "output_type": "execute_result",
          "data": {
            "text/plain": [
              "array([17.64335461])"
            ]
          },
          "metadata": {},
          "execution_count": 93
        }
      ]
    },
    {
      "cell_type": "code",
      "source": [
        "#solution pour regression linear simple avec colone horesepower\n",
        "\n",
        "from sklearn.linear_model import LinearRegression\n",
        "from sklearn.metrics import r2_score\n",
        "\n",
        "# Création du modèle\n",
        "model5 = LinearRegression()\n",
        "\n",
        "# Entraînement du modèle avec la colonne \"horsepower\"\n",
        "model5.fit(x_train[[\"horesepower\"]], y_train)\n",
        "\n",
        "# Prédiction sur les données de test\n",
        "ypred_linear_horsepower = model5.predict(x_test[[\"horesepower\"]])\n",
        "\n",
        "# Calcul du score R2\n",
        "score4 = r2_score(y_test, ypred_linear_horsepower)\n",
        "print(\"Le score est\", score4)\n"
      ],
      "metadata": {
        "colab": {
          "base_uri": "https://localhost:8080/"
        },
        "id": "LjMrekS_w9ca",
        "outputId": "97bb9345-7be1-446d-ca7e-2b91d4dd16fa"
      },
      "execution_count": null,
      "outputs": [
        {
          "output_type": "stream",
          "name": "stdout",
          "text": [
            "Le score est 0.42082941775732485\n"
          ]
        }
      ]
    },
    {
      "cell_type": "code",
      "execution_count": null,
      "metadata": {
        "colab": {
          "base_uri": "https://localhost:8080/"
        },
        "id": "bV53rnoEhUgK",
        "outputId": "09fcc7b3-2a47-4feb-c835-5d99ea359a4b"
      },
      "outputs": [
        {
          "output_type": "stream",
          "name": "stdout",
          "text": [
            "[15.60014528 17.52965774 15.96274462 15.79721757 15.82392106 12.3630266\n",
            " 17.52965774 16.27803369 12.08037673 13.71119919 15.82392106 13.71119919\n",
            " 17.52965774 12.07002148 13.71119919 17.20724064 16.13486509 17.88385348\n",
            " 12.70849891 16.09419299 12.21792783 15.96274462 16.59364482 12.83172873\n",
            " 13.25541036 15.79721757 12.83172873 17.31096134 15.79721757 12.79066151\n",
            " 15.6955403  16.83201718 12.83172873 15.96274462 12.91216514 16.02255663\n",
            " 15.91327244 16.22665644 13.25541036 17.76250412 15.7610247  17.88385348\n",
            " 14.58307551 13.80306845 12.3630266  16.27803369]\n",
            "le score est  -0.07838528367909592\n"
          ]
        }
      ],
      "source": [
        "#solution polymial pour x-train avec le colone horesepower\n",
        "\n",
        "from sklearn.preprocessing import PolynomialFeatures\n",
        "\n",
        "poly1 = PolynomialFeatures(degree=9)\n",
        "p_horesepower_train = poly1.fit_transform(x_train[[\"horesepower\"]])\n",
        "p_horesepower_test = poly1.fit_transform(x_test[[\"horesepower\"]])\n",
        "\n",
        "# creation de model\n",
        "predic = LinearRegression().fit(p_horesepower_train, y_train)\n",
        "ypred_horesepower=predic.predict(p_horesepower_test)\n",
        "print(ypred_horesepower)\n",
        "\n",
        "score3=r2_score(ypred_horesepower,y_test)\n",
        "print(\"le score est \",score3)\n",
        "\n",
        "\n"
      ]
    },
    {
      "cell_type": "code",
      "execution_count": null,
      "metadata": {
        "colab": {
          "base_uri": "https://localhost:8080/"
        },
        "id": "AtmkDrEss5Vw",
        "outputId": "a01b9867-e182-422d-d74e-95e970612068"
      },
      "outputs": [
        {
          "output_type": "stream",
          "name": "stdout",
          "text": [
            "solution polymial sur x_test complet\n",
            "Le degré optimal est 2\n",
            "Le score est 0.7229134226611489\n"
          ]
        }
      ],
      "source": [
        "#solution polymial pour x-train complet\n",
        "\n",
        "from sklearn.preprocessing import PolynomialFeatures\n",
        "from sklearn.linear_model import LinearRegression\n",
        "from sklearn.metrics import r2_score\n",
        "\n",
        "max_d = 20\n",
        "meilleur_score = 0\n",
        "meilleur_d = 0\n",
        "\n",
        "for d in range(1, max_d + 1):\n",
        "    poly = PolynomialFeatures(degree=d)\n",
        "    p_train = poly.fit_transform(x_train)\n",
        "    p_test = poly.fit_transform(x_test)\n",
        "    \n",
        "    # Création du modèle\n",
        "    modelp = LinearRegression().fit(p_train, y_train)\n",
        "    #prediction\n",
        "    ypred_pol = modelp.predict(p_test)\n",
        "    \n",
        "    # Évaluation des performances en utilisant le score R2\n",
        "    score = r2_score(y_test, ypred_pol)\n",
        "    \n",
        "    # Comparaison du score actuel avec le meilleur score obtenu jusqu'à présent\n",
        "    if score > meilleur_score:\n",
        "        meilleur_score = score\n",
        "        meilleur_d = d\n",
        "print(\"solution polymial sur x_test complet\")\n",
        "print(\"Le degré optimal est\", meilleur_d)\n",
        "print(\"Le score est\", meilleur_score)\n",
        "\n"
      ]
    },
    {
      "cell_type": "code",
      "execution_count": null,
      "metadata": {
        "colab": {
          "base_uri": "https://localhost:8080/",
          "height": 472
        },
        "id": "XUljqAZ-qUIP",
        "outputId": "e62ec53f-3d10-4fbd-c105-b415249ddd21"
      },
      "outputs": [
        {
          "output_type": "display_data",
          "data": {
            "text/plain": [
              "<Figure size 640x480 with 1 Axes>"
            ],
            "image/png": "[encoded data removed]"
          },
          "metadata": {}
        }
      ],
      "source": [
        "#affichage de nuage + regression simple + polymial de horesepower\n",
        "\n",
        "import matplotlib.pyplot as plt\n",
        "\n",
        "# Affichage de la régression polynomiale\n",
        "new_x_poly, new_y_poly = zip(*sorted(zip(x_test[\"horesepower\"], ypred_horesepower)))\n",
        "plt.plot(new_x_poly, new_y_poly, \"o-\", color=\"g\", label=\"Polynomial Regression\")\n",
        "\n",
        "# Affichage de la régression linéaire\n",
        "new_x_linear, new_y_linear = zip(*sorted(zip(x_test[\"horesepower\"], ypred_linear_horsepower)))\n",
        "plt.plot(new_x_linear, new_y_linear, \"--\", color=\"r\", label=\"Linear Regression\")\n",
        "\n",
        "# Affichage des données réelles\n",
        "plt.scatter(x_test[\"horesepower\"], y_test)\n",
        "\n",
        "# Paramètres du graphe\n",
        "plt.xlabel(\"horesepower\")\n",
        "plt.ylabel(\"Acceleration\")\n",
        "plt.title(\"Linear vs Polynomial Regression\")\n",
        "\n",
        "# Légende et grille\n",
        "plt.legend()\n",
        "plt.grid()\n",
        "\n",
        "# Affichage du graphe\n",
        "plt.show()\n"
      ]
    }
  ],
  "metadata": {
    "colab": {
      "provenance": []
    },
    "kernelspec": {
      "display_name": "Python 3",
      "name": "python3"
    },
    "language_info": {
      "name": "python"
    }
  },
  "nbformat": 4,
  "nbformat_minor": 0
}
