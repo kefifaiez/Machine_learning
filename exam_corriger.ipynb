{
  "cells": [
    {
      "cell_type": "markdown",
      "metadata": {
        "id": "LLuCEpfVbcsl"
      },
      "source": [
        "# Regression Polynomiale"
      ]
    },
    {
      "cell_type": "markdown",
      "metadata": {
        "id": "BxcoZyCDbkWC"
      },
      "source": [
        "# Etape 1 : Chargement des Bibliothèques"
      ]
    },
    {
      "cell_type": "code",
      "execution_count": 36,
      "metadata": {
        "id": "ROrK8CRObpvo"
      },
      "outputs": [],
      "source": [
        "import pandas as pd\n",
        "import numpy as np\n",
        "import matplotlib.pyplot as plt\n",
        "from sklearn.linear_model import LinearRegression\n",
        "from sklearn.preprocessing import PolynomialFeatures\n",
        "from sklearn.linear_model import LinearRegression\n",
        "from sklearn.metrics import r2_score"
      ]
    },
    {
      "cell_type": "markdown",
      "metadata": {
        "id": "iUAR3UaUb1ZH"
      },
      "source": [
        "## Etape 2 : Chargement des données du 'Position_Salaries.csv' (level par raport au salaire)"
      ]
    },
    {
      "cell_type": "code",
      "execution_count": 37,
      "metadata": {
        "id": "ZEazC-mab-Tu"
      },
      "outputs": [],
      "source": [
        "data=pd.read_csv('/Position_Salaries.csv')\n"
      ]
    },
    {
      "cell_type": "code",
      "source": [
        "\n",
        "x=data.iloc[:,1:-1]\n",
        "y=data.iloc[:,-1]\n"
      ],
      "metadata": {
        "id": "dzt149VzVuLl"
      },
      "execution_count": 38,
      "outputs": []
    },
    {
      "cell_type": "code",
      "source": [
        "x"
      ],
      "metadata": {
        "colab": {
          "base_uri": "https://localhost:8080/",
          "height": 363
        },
        "id": "vyWmbEcJsEmU",
        "outputId": "669ae34a-69bb-4e33-fa48-3db4c6773c5a"
      },
      "execution_count": 39,
      "outputs": [
        {
          "output_type": "execute_result",
          "data": {
            "text/plain": [
              "   Level\n",
              "0      1\n",
              "1      2\n",
              "2      3\n",
              "3      4\n",
              "4      5\n",
              "5      6\n",
              "6      7\n",
              "7      8\n",
              "8      9\n",
              "9     10"
            ],
            "text/html": [
              "\n",
              "  <div id=\"df-dd53c35f-8df9-42e9-aa23-ae19b4c784ca\">\n",
              "    <div class=\"colab-df-container\">\n",
              "      <div>\n",
              "<style scoped>\n",
              "    .dataframe tbody tr th:only-of-type {\n",
              "        vertical-align: middle;\n",
              "    }\n",
              "\n",
              "    .dataframe tbody tr th {\n",
              "        vertical-align: top;\n",
              "    }\n",
              "\n",
              "    .dataframe thead th {\n",
              "        text-align: right;\n",
              "    }\n",
              "</style>\n",
              "<table border=\"1\" class=\"dataframe\">\n",
              "  <thead>\n",
              "    <tr style=\"text-align: right;\">\n",
              "      <th></th>\n",
              "      <th>Level</th>\n",
              "    </tr>\n",
              "  </thead>\n",
              "  <tbody>\n",
              "    <tr>\n",
              "      <th>0</th>\n",
              "      <td>1</td>\n",
              "    </tr>\n",
              "    <tr>\n",
              "      <th>1</th>\n",
              "      <td>2</td>\n",
              "    </tr>\n",
              "    <tr>\n",
              "      <th>2</th>\n",
              "      <td>3</td>\n",
              "    </tr>\n",
              "    <tr>\n",
              "      <th>3</th>\n",
              "      <td>4</td>\n",
              "    </tr>\n",
              "    <tr>\n",
              "      <th>4</th>\n",
              "      <td>5</td>\n",
              "    </tr>\n",
              "    <tr>\n",
              "      <th>5</th>\n",
              "      <td>6</td>\n",
              "    </tr>\n",
              "    <tr>\n",
              "      <th>6</th>\n",
              "      <td>7</td>\n",
              "    </tr>\n",
              "    <tr>\n",
              "      <th>7</th>\n",
              "      <td>8</td>\n",
              "    </tr>\n",
              "    <tr>\n",
              "      <th>8</th>\n",
              "      <td>9</td>\n",
              "    </tr>\n",
              "    <tr>\n",
              "      <th>9</th>\n",
              "      <td>10</td>\n",
              "    </tr>\n",
              "  </tbody>\n",
              "</table>\n",
              "</div>\n",
              "      <button class=\"colab-df-convert\" onclick=\"convertToInteractive('df-dd53c35f-8df9-42e9-aa23-ae19b4c784ca')\"\n",
              "              title=\"Convert this dataframe to an interactive table.\"\n",
              "              style=\"display:none;\">\n",
              "        \n",
              "  <svg xmlns=\"http://www.w3.org/2000/svg\" height=\"24px\"viewBox=\"0 0 24 24\"\n",
              "       width=\"24px\">\n",
              "    <path d=\"M0 0h24v24H0V0z\" fill=\"none\"/>\n",
              "    <path d=\"M18.56 5.44l.94 2.06.94-2.06 2.06-.94-2.06-.94-.94-2.06-.94 2.06-2.06.94zm-11 1L8.5 8.5l.94-2.06 2.06-.94-2.06-.94L8.5 2.5l-.94 2.06-2.06.94zm10 10l.94 2.06.94-2.06 2.06-.94-2.06-.94-.94-2.06-.94 2.06-2.06.94z\"/><path d=\"M17.41 7.96l-1.37-1.37c-.4-.4-.92-.59-1.43-.59-.52 0-1.04.2-1.43.59L10.3 9.45l-7.72 7.72c-.78.78-.78 2.05 0 2.83L4 21.41c.39.39.9.59 1.41.59.51 0 1.02-.2 1.41-.59l7.78-7.78 2.81-2.81c.8-.78.8-2.07 0-2.86zM5.41 20L4 18.59l7.72-7.72 1.47 1.35L5.41 20z\"/>\n",
              "  </svg>\n",
              "      </button>\n",
              "      \n",
              "  <style>\n",
              "    .colab-df-container {\n",
              "      display:flex;\n",
              "      flex-wrap:wrap;\n",
              "      gap: 12px;\n",
              "    }\n",
              "\n",
              "    .colab-df-convert {\n",
              "      background-color: #E8F0FE;\n",
              "      border: none;\n",
              "      border-radius: 50%;\n",
              "      cursor: pointer;\n",
              "      display: none;\n",
              "      fill: #1967D2;\n",
              "      height: 32px;\n",
              "      padding: 0 0 0 0;\n",
              "      width: 32px;\n",
              "    }\n",
              "\n",
              "    .colab-df-convert:hover {\n",
              "      background-color: #E2EBFA;\n",
              "      box-shadow: 0px 1px 2px rgba(60, 64, 67, 0.3), 0px 1px 3px 1px rgba(60, 64, 67, 0.15);\n",
              "      fill: #174EA6;\n",
              "    }\n",
              "\n",
              "    [theme=dark] .colab-df-convert {\n",
              "      background-color: #3B4455;\n",
              "      fill: #D2E3FC;\n",
              "    }\n",
              "\n",
              "    [theme=dark] .colab-df-convert:hover {\n",
              "      background-color: #434B5C;\n",
              "      box-shadow: 0px 1px 3px 1px rgba(0, 0, 0, 0.15);\n",
              "      filter: drop-shadow(0px 1px 2px rgba(0, 0, 0, 0.3));\n",
              "      fill: #FFFFFF;\n",
              "    }\n",
              "  </style>\n",
              "\n",
              "      <script>\n",
              "        const buttonEl =\n",
              "          document.querySelector('#df-dd53c35f-8df9-42e9-aa23-ae19b4c784ca button.colab-df-convert');\n",
              "        buttonEl.style.display =\n",
              "          google.colab.kernel.accessAllowed ? 'block' : 'none';\n",
              "\n",
              "        async function convertToInteractive(key) {\n",
              "          const element = document.querySelector('#df-dd53c35f-8df9-42e9-aa23-ae19b4c784ca');\n",
              "          const dataTable =\n",
              "            await google.colab.kernel.invokeFunction('convertToInteractive',\n",
              "                                                     [key], {});\n",
              "          if (!dataTable) return;\n",
              "\n",
              "          const docLinkHtml = 'Like what you see? Visit the ' +\n",
              "            '<a target=\"_blank\" href=https://colab.research.google.com/notebooks/data_table.ipynb>data table notebook</a>'\n",
              "            + ' to learn more about interactive tables.';\n",
              "          element.innerHTML = '';\n",
              "          dataTable['output_type'] = 'display_data';\n",
              "          await google.colab.output.renderOutput(dataTable, element);\n",
              "          const docLink = document.createElement('div');\n",
              "          docLink.innerHTML = docLinkHtml;\n",
              "          element.appendChild(docLink);\n",
              "        }\n",
              "      </script>\n",
              "    </div>\n",
              "  </div>\n",
              "  "
            ]
          },
          "metadata": {},
          "execution_count": 39
        }
      ]
    },
    {
      "cell_type": "code",
      "source": [
        "y"
      ],
      "metadata": {
        "colab": {
          "base_uri": "https://localhost:8080/"
        },
        "id": "Eh4Ac2PxsETJ",
        "outputId": "f5cb8ec5-8e5d-4a26-b70f-9d6022b8c662"
      },
      "execution_count": 40,
      "outputs": [
        {
          "output_type": "execute_result",
          "data": {
            "text/plain": [
              "0      45000\n",
              "1      50000\n",
              "2      60000\n",
              "3      80000\n",
              "4     110000\n",
              "5     150000\n",
              "6     200000\n",
              "7     300000\n",
              "8     500000\n",
              "9    1000000\n",
              "Name: Salary, dtype: int64"
            ]
          },
          "metadata": {},
          "execution_count": 40
        }
      ]
    },
    {
      "cell_type": "markdown",
      "metadata": {
        "id": "fAUoGjhicGKl"
      },
      "source": [
        "## Etape 2 : Diviser les données en train 0.8 et test 0.2"
      ]
    },
    {
      "cell_type": "code",
      "execution_count": 41,
      "metadata": {
        "id": "Eve0QZnzck8G"
      },
      "outputs": [],
      "source": [
        "\n",
        "#split x ey y\n",
        "from sklearn.model_selection import train_test_split\n",
        "x_train,x_test,y_train,y_test = train_test_split(x,y,test_size=0.2)"
      ]
    },
    {
      "cell_type": "markdown",
      "metadata": {
        "id": "Ghi9V2dcVc5U"
      },
      "source": [
        "## Etape 3 : Entrainer le modèle de regression linéaire (lin_reg)"
      ]
    },
    {
      "cell_type": "code",
      "execution_count": 42,
      "metadata": {
        "id": "k_HDmebkVpvB"
      },
      "outputs": [],
      "source": [
        "\n",
        "# Création du modèle de la regression linéaire\n",
        "model_l = LinearRegression()\n",
        "\n",
        "# Entraînement du modèle\n",
        "model_l.fit(x_train, y_train)\n",
        "\n",
        "# Prédiction sur les données de test\n",
        "ypred_linear = model_l.predict(x_test)\n",
        "# Prédiction sur tout les données\n",
        "ypred_total= model_l.predict(x)\n",
        "\n",
        "\n"
      ]
    },
    {
      "cell_type": "markdown",
      "metadata": {
        "id": "sy0v9rQndnfh"
      },
      "source": [
        "## claculer le score"
      ]
    },
    {
      "cell_type": "code",
      "source": [
        "# Calcul du score R2\n",
        "score = r2_score(y_test, ypred_linear)\n",
        "print(\"Le score de la regression linéaire est\", score)"
      ],
      "metadata": {
        "colab": {
          "base_uri": "https://localhost:8080/"
        },
        "id": "YxZ-muDHtMo3",
        "outputId": "f5b34167-3cfd-4495-d1b6-6f4c56b6e9c6"
      },
      "execution_count": 43,
      "outputs": [
        {
          "output_type": "stream",
          "name": "stdout",
          "text": [
            "Le score de la regression linéaire est -3.182918000304836\n"
          ]
        }
      ]
    },
    {
      "cell_type": "markdown",
      "metadata": {
        "id": "MPxIGVOv2wG-"
      },
      "source": [
        "## Etape 5 : Visualisation des résultats du modèle linéaire"
      ]
    },
    {
      "cell_type": "code",
      "execution_count": 44,
      "metadata": {
        "colab": {
          "base_uri": "https://localhost:8080/",
          "height": 472
        },
        "id": "rCr0Bbm4d-_F",
        "outputId": "d91d9039-3d4b-49d5-fc9f-bcb30d36fa96"
      },
      "outputs": [
        {
          "output_type": "display_data",
          "data": {
            "text/plain": [
              "<Figure size 640x480 with 1 Axes>"
            ],
            "image/png": "[encoded data removed]"
          },
          "metadata": {}
        }
      ],
      "source": [
        "# Tracé des données réelles\n",
        "plt.scatter(x, y, color='blue', label='Données réelles')\n",
        "\n",
        "# Tracé de la prédiction du modèle linéaire avec la totalité des donnée x\n",
        "plt.plot(x, ypred_total, color='red', label='Prédiction linéaire')\n",
        "\n",
        "# Paramètres du graphe\n",
        "plt.xlabel('Level')\n",
        "plt.ylabel('Salary')\n",
        "plt.title('Résultats du modèle linéaire')\n",
        "plt.legend()\n",
        "plt.grid(True)\n",
        "\n",
        "# Affichage du graphe\n",
        "plt.show()\n"
      ]
    },
    {
      "cell_type": "markdown",
      "metadata": {
        "id": "wr6UBWdsWEwo"
      },
      "source": [
        "## Etape 4 : Entrainer le modèle de regression polynomiale degree=4 (poly_reg)"
      ]
    },
    {
      "cell_type": "code",
      "execution_count": 45,
      "metadata": {
        "id": "8gfweZcKWPZ3"
      },
      "outputs": [],
      "source": [
        "\n",
        "poly = PolynomialFeatures(degree=4)\n",
        "p_train = poly.fit_transform(x_train)\n",
        "p_test = poly.fit_transform(x_test)\n",
        "#transformation de tous les données x\n",
        "p_tot = poly.fit_transform(x)\n",
        "\n",
        "# Création du modèle\n",
        "modelp = LinearRegression().fit(p_train, y_train)\n",
        "\n",
        "# Prédiction polymial\n",
        "ypred_pol = modelp.predict(p_test)\n",
        "# Prédiction de tous les données x\n",
        "ypred_pol_tot = modelp.predict(p_tot)\n",
        "\n",
        "\n"
      ]
    },
    {
      "cell_type": "markdown",
      "metadata": {
        "id": "aBBhJBkveMMG"
      },
      "source": [
        "## calculer le score"
      ]
    },
    {
      "cell_type": "code",
      "source": [
        "# Évaluation des performances en utilisant le score R2\n",
        "score2 = r2_score(y, ypred_pol_tot)\n",
        "\n",
        "print(\"Le score de la méthode polynomiale est\", score2)"
      ],
      "metadata": {
        "colab": {
          "base_uri": "https://localhost:8080/"
        },
        "id": "NDQ9kxb0tvwe",
        "outputId": "3f240485-e1ee-41ed-b919-dfce5daba476"
      },
      "execution_count": 46,
      "outputs": [
        {
          "output_type": "stream",
          "name": "stdout",
          "text": [
            "Le score de la méthode polynomiale est 0.9967954719208758\n"
          ]
        }
      ]
    },
    {
      "cell_type": "markdown",
      "metadata": {
        "id": "1jUE9W_2gDDu"
      },
      "source": [
        "## Etape 6 : Visualisation des résultats du modèle de regression polynomiale"
      ]
    },
    {
      "cell_type": "code",
      "execution_count": 47,
      "metadata": {
        "colab": {
          "base_uri": "https://localhost:8080/",
          "height": 472
        },
        "id": "FG3JIdXOgNXP",
        "outputId": "9ebca8ef-f311-47d2-a098-f40a7375e40c"
      },
      "outputs": [
        {
          "output_type": "display_data",
          "data": {
            "text/plain": [
              "<Figure size 640x480 with 1 Axes>"
            ],
            "image/png": "[encoded data removed]"
          },
          "metadata": {}
        }
      ],
      "source": [
        "\n",
        "plt.scatter(x, y, color='blue', label='Données réelles')\n",
        "\n",
        "\n",
        "# Tri des données de test\n",
        "new_x_poly, new_y_poly = zip(*sorted(zip(x, ypred_pol_tot)))\n",
        "\n",
        "# Tracé des données réelles \n",
        "plt.plot(x, ypred_pol_tot, color='red', label='Prédiction polynomiale')\n",
        "\n",
        "# Paramètres du graphe\n",
        "plt.xlabel('Level')\n",
        "plt.ylabel('Salary')\n",
        "plt.title('Résultats du modèle de régression polynomiale')\n",
        "plt.legend()\n",
        "plt.grid(True)\n",
        "\n",
        "# Affichage du graphe\n",
        "plt.show()\n"
      ]
    },
    {
      "cell_type": "markdown",
      "metadata": {
        "id": "9jSxXCJriyqW"
      },
      "source": []
    },
    {
      "cell_type": "markdown",
      "metadata": {
        "id": "pz7XNepnmDVM"
      },
      "source": [
        "## Etape 8 : Prédire un nouveau résultat d'une seule observation avec la regression linéaire level =6.5\n"
      ]
    },
    {
      "cell_type": "code",
      "execution_count": 48,
      "metadata": {
        "id": "e9mtlaxQmO7k",
        "colab": {
          "base_uri": "https://localhost:8080/"
        },
        "outputId": "21ede143-0936-4cf9-d0a9-0c59c2c18975"
      },
      "outputs": [
        {
          "output_type": "stream",
          "name": "stdout",
          "text": [
            "Le résultat de prédiction avec la regression linéaire est [347138.88888889]\n"
          ]
        },
        {
          "output_type": "stream",
          "name": "stderr",
          "text": [
            "/usr/local/lib/python3.10/dist-packages/sklearn/base.py:439: UserWarning: X does not have valid feature names, but LinearRegression was fitted with feature names\n",
            "  warnings.warn(\n"
          ]
        }
      ],
      "source": [
        "x_lin = [[6.5]]\n",
        "y_res = model_l.predict(x_lin)\n",
        "print(\"Le résultat de prédiction avec la regression linéaire est\",y_res) \n"
      ]
    },
    {
      "cell_type": "markdown",
      "metadata": {
        "id": "LBw6dirfnm6r"
      },
      "source": [
        "## Etape 9 : Prédire un nouveau résultat d'une seule observation avec la regression polynomiale level =6.5"
      ]
    },
    {
      "cell_type": "code",
      "execution_count": 49,
      "metadata": {
        "colab": {
          "base_uri": "https://localhost:8080/"
        },
        "id": "m1BiAcionxOW",
        "outputId": "760fae68-be5e-487f-ca6a-bf6a1bbe6c8f"
      },
      "outputs": [
        {
          "output_type": "stream",
          "name": "stdout",
          "text": [
            "Le résultat de prédiction avec la regression polynomiale pour 6.5 est [157105.02199415]\n"
          ]
        },
        {
          "output_type": "stream",
          "name": "stderr",
          "text": [
            "/usr/local/lib/python3.10/dist-packages/sklearn/base.py:439: UserWarning: X does not have valid feature names, but PolynomialFeatures was fitted with feature names\n",
            "  warnings.warn(\n"
          ]
        }
      ],
      "source": [
        "\n",
        "x2 = [[6.5]]\n",
        "predX = modelp.predict(poly.transform(x2))\n",
        "print(\"Le résultat de prédiction avec la regression polynomiale pour 6.5 est\", predX)\n"
      ]
    },
    {
      "cell_type": "markdown",
      "metadata": {
        "id": "_rgnp4nhhLAY"
      },
      "source": [
        "## afficher la lise des scores pour les degrees entre 1 et 32)"
      ]
    },
    {
      "cell_type": "code",
      "execution_count": 50,
      "metadata": {
        "colab": {
          "base_uri": "https://localhost:8080/"
        },
        "id": "ue7zTp8yhnlR",
        "outputId": "8f50fc9c-a82d-41af-8f2b-f0048e95a43b"
      },
      "outputs": [
        {
          "output_type": "stream",
          "name": "stdout",
          "text": [
            "Le score pour un degré de 1 est 0.6618145257681076\n",
            "Le score pour un degré de 2 est 0.9150627279186617\n",
            "Le score pour un degré de 3 est 0.9797413235142859\n",
            "Le score pour un degré de 4 est 0.9967954719208758\n",
            "Le score pour un degré de 5 est 0.999510312151617\n",
            "Le score pour un degré de 6 est 0.9998314084358935\n",
            "Le score pour un degré de 7 est 0.9999420160995615\n",
            "Le score pour un degré de 8 est 0.999954926765294\n",
            "Le score pour un degré de 9 est 0.9999575503337488\n",
            "Le score pour un degré de 10 est 0.9999598987329835\n",
            "Le score pour un degré de 11 est 0.9999663704441673\n",
            "Le score pour un degré de 12 est 0.9999903952747426\n",
            "Le score pour un degré de 13 est 0.9998809534034667\n",
            "Le score pour un degré de 14 est 0.9962834973514836\n",
            "Le score pour un degré de 15 est 0.9493321682694694\n",
            "Le score pour un degré de 16 est 0.4893104025276046\n",
            "Le score pour un degré de 17 est -3.337965750622776\n",
            "Le score pour un degré de 18 est -31.868492409547528\n",
            "Le score pour un degré de 19 est -228.49220020649832\n",
            "Le score pour un degré de 20 est -1507.1041577376893\n",
            "Le score pour un degré de 21 est -9454.636632215068\n",
            "Le score pour un degré de 22 est -214.74260537312168\n",
            "Le score pour un degré de 23 est -720.5600183163878\n",
            "Le score pour un degré de 24 est -2374.6807965677394\n",
            "Le score pour un degré de 25 est -7719.124307328133\n",
            "Le score pour un degré de 26 est -24821.86622131888\n",
            "Le score pour un degré de 27 est -110.323750534966\n",
            "Le score pour un degré de 28 est -225.38370651662086\n",
            "Le score pour un degré de 29 est -456.74160490411106\n",
            "Le score pour un degré de 30 est -920.0587475050382\n",
            "Le score pour un degré de 31 est -1844.7179051850603\n",
            "Le score pour un degré de 32 est -3684.801448558502\n",
            "La liste complète des scores est : [0.6618145257681076, 0.9150627279186617, 0.9797413235142859, 0.9967954719208758, 0.999510312151617, 0.9998314084358935, 0.9999420160995615, 0.999954926765294, 0.9999575503337488, 0.9999598987329835, 0.9999663704441673, 0.9999903952747426, 0.9998809534034667, 0.9962834973514836, 0.9493321682694694, 0.4893104025276046, -3.337965750622776, -31.868492409547528, -228.49220020649832, -1507.1041577376893, -9454.636632215068, -214.74260537312168, -720.5600183163878, -2374.6807965677394, -7719.124307328133, -24821.86622131888, -110.323750534966, -225.38370651662086, -456.74160490411106, -920.0587475050382, -1844.7179051850603, -3684.801448558502]\n"
          ]
        }
      ],
      "source": [
        "\n",
        "max_d = 32\n",
        "degrees = range(1, max_d + 1)\n",
        "scores = []\n",
        "\n",
        "for d in degrees:\n",
        "    poly = PolynomialFeatures(degree=d)\n",
        "    p_train = poly.fit_transform(x_train)\n",
        "    p_test = poly.fit_transform(x_test)\n",
        "    p_tot = poly.fit_transform(x)\n",
        "    \n",
        "    # Création du modèle\n",
        "    modelp = LinearRegression().fit(p_train, y_train)\n",
        "    \n",
        "    # Prédiction\n",
        "    ypred_pol = modelp.predict(p_test)\n",
        "    ypred_pol_tot = modelp.predict(p_tot)\n",
        "    \n",
        "    # Évaluation des performances en utilisant le score R2\n",
        "    score = r2_score(y, ypred_pol_tot)\n",
        "    \n",
        "    # Ajout du score à la liste\n",
        "    scores.append(score)\n",
        "\n",
        "    # Affichage du score\n",
        "    print(\"Le score pour un degré de\", d, \"est\", score)\n",
        "\n",
        "print(\"La liste complète des scores est :\", scores)\n"
      ]
    },
    {
      "cell_type": "markdown",
      "metadata": {
        "id": "vVfBX9hce_ct"
      },
      "source": [
        "## Etape 9 :visuliser les score par rapport au degree (degree entre 1 et 32)"
      ]
    },
    {
      "cell_type": "code",
      "execution_count": 51,
      "metadata": {
        "colab": {
          "base_uri": "https://localhost:8080/",
          "height": 473
        },
        "id": "yoIDQzr5i0hb",
        "outputId": "ed29e83b-e46c-4758-b936-5f593664a55d"
      },
      "outputs": [
        {
          "output_type": "display_data",
          "data": {
            "text/plain": [
              "<Figure size 640x480 with 1 Axes>"
            ],
            "image/png": "[encoded data removed]"
          },
          "metadata": {}
        }
      ],
      "source": [
        "# Tracé des scores par rapport au degré\n",
        "plt.plot(degrees, scores, 'o-')\n",
        "plt.xlabel('Degré')\n",
        "plt.ylabel('Score R2')\n",
        "plt.title('Scores R2 en fonction du degré')\n",
        "plt.grid(True)\n",
        "plt.show()\n"
      ]
    }
  ],
  "metadata": {
    "colab": {
      "provenance": []
    },
    "kernelspec": {
      "display_name": "Python 3",
      "name": "python3"
    },
    "language_info": {
      "name": "python"
    }
  },
  "nbformat": 4,
  "nbformat_minor": 0
}